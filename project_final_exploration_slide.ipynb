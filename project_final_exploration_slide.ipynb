{
 "cells": [
  {
   "cell_type": "markdown",
   "metadata": {
    "slideshow": {
     "slide_type": "slide"
    }
   },
   "source": [
    "#  Project: First Month of  2018 ford Gobike System \n",
    "## by Kadiri Aiyegbeni Abdulkadir\n",
    "  \n",
    "## Table of contents\n",
    "- Introduction\n",
    "-  Data Wrangling\n",
    "- visualization and Analysis\n",
    "\n",
    "\n",
    " \n",
    ">"
   ]
  },
  {
   "cell_type": "markdown",
   "metadata": {
    "slideshow": {
     "slide_type": "slide"
    }
   },
   "source": [
    "## Introduction\n",
    " I am using the first month of  2018 ford Gobike datase.i want to investigate the impact of gender in  ford Go biketrip.I am investigating the impact of gender in fordgobike system data of the first month of 2018, how  gender availability in each trip?. The number of user that registered that are male or female for the trip ,and how long was the trip based on the gender.The main focus on this ford gobike trip are member_gender,duration_min,day and user_type"
   ]
  },
  {
   "cell_type": "markdown",
   "metadata": {
    "slideshow": {
     "slide_type": "skip"
    }
   },
   "source": [
    "##  Data Wrangling"
   ]
  },
  {
   "cell_type": "code",
   "execution_count": 1,
   "metadata": {
    "slideshow": {
     "slide_type": "skip"
    }
   },
   "outputs": [],
   "source": [
    "# import all packages and set plots to be embedded inline\n",
    "import numpy as np\n",
    "import pandas as pd\n",
    "import matplotlib.pyplot as plt\n",
    "import seaborn as sb\n",
    "\n",
    "%matplotlib inline"
   ]
  },
  {
   "cell_type": "markdown",
   "metadata": {
    "slideshow": {
     "slide_type": "skip"
    }
   },
   "source": [
    "#### Gather"
   ]
  },
  {
   "cell_type": "code",
   "execution_count": 2,
   "metadata": {
    "slideshow": {
     "slide_type": "skip"
    }
   },
   "outputs": [],
   "source": [
    "# load data\n",
    "df = pd.read_csv('201801-fordgobike-tripdata.csv')"
   ]
  },
  {
   "cell_type": "code",
   "execution_count": 3,
   "metadata": {
    "slideshow": {
     "slide_type": "skip"
    }
   },
   "outputs": [
    {
     "data": {
      "text/html": [
       "<div>\n",
       "<style scoped>\n",
       "    .dataframe tbody tr th:only-of-type {\n",
       "        vertical-align: middle;\n",
       "    }\n",
       "\n",
       "    .dataframe tbody tr th {\n",
       "        vertical-align: top;\n",
       "    }\n",
       "\n",
       "    .dataframe thead th {\n",
       "        text-align: right;\n",
       "    }\n",
       "</style>\n",
       "<table border=\"1\" class=\"dataframe\">\n",
       "  <thead>\n",
       "    <tr style=\"text-align: right;\">\n",
       "      <th></th>\n",
       "      <th>duration_sec</th>\n",
       "      <th>start_time</th>\n",
       "      <th>end_time</th>\n",
       "      <th>start_station_id</th>\n",
       "      <th>start_station_name</th>\n",
       "      <th>start_station_latitude</th>\n",
       "      <th>start_station_longitude</th>\n",
       "      <th>end_station_id</th>\n",
       "      <th>end_station_name</th>\n",
       "      <th>end_station_latitude</th>\n",
       "      <th>end_station_longitude</th>\n",
       "      <th>bike_id</th>\n",
       "      <th>user_type</th>\n",
       "      <th>member_birth_year</th>\n",
       "      <th>member_gender</th>\n",
       "      <th>bike_share_for_all_trip</th>\n",
       "    </tr>\n",
       "  </thead>\n",
       "  <tbody>\n",
       "    <tr>\n",
       "      <th>0</th>\n",
       "      <td>75284</td>\n",
       "      <td>2018-01-31 22:52:35.2390</td>\n",
       "      <td>2018-02-01 19:47:19.8240</td>\n",
       "      <td>120</td>\n",
       "      <td>Mission Dolores Park</td>\n",
       "      <td>37.761420</td>\n",
       "      <td>-122.426435</td>\n",
       "      <td>285</td>\n",
       "      <td>Webster St at O'Farrell St</td>\n",
       "      <td>37.783521</td>\n",
       "      <td>-122.431158</td>\n",
       "      <td>2765</td>\n",
       "      <td>Subscriber</td>\n",
       "      <td>1986.0</td>\n",
       "      <td>Male</td>\n",
       "      <td>No</td>\n",
       "    </tr>\n",
       "    <tr>\n",
       "      <th>1</th>\n",
       "      <td>85422</td>\n",
       "      <td>2018-01-31 16:13:34.3510</td>\n",
       "      <td>2018-02-01 15:57:17.3100</td>\n",
       "      <td>15</td>\n",
       "      <td>San Francisco Ferry Building (Harry Bridges Pl...</td>\n",
       "      <td>37.795392</td>\n",
       "      <td>-122.394203</td>\n",
       "      <td>15</td>\n",
       "      <td>San Francisco Ferry Building (Harry Bridges Pl...</td>\n",
       "      <td>37.795392</td>\n",
       "      <td>-122.394203</td>\n",
       "      <td>2815</td>\n",
       "      <td>Customer</td>\n",
       "      <td>NaN</td>\n",
       "      <td>NaN</td>\n",
       "      <td>No</td>\n",
       "    </tr>\n",
       "    <tr>\n",
       "      <th>2</th>\n",
       "      <td>71576</td>\n",
       "      <td>2018-01-31 14:23:55.8890</td>\n",
       "      <td>2018-02-01 10:16:52.1160</td>\n",
       "      <td>304</td>\n",
       "      <td>Jackson St at 5th St</td>\n",
       "      <td>37.348759</td>\n",
       "      <td>-121.894798</td>\n",
       "      <td>296</td>\n",
       "      <td>5th St at Virginia St</td>\n",
       "      <td>37.325998</td>\n",
       "      <td>-121.877120</td>\n",
       "      <td>3039</td>\n",
       "      <td>Customer</td>\n",
       "      <td>1996.0</td>\n",
       "      <td>Male</td>\n",
       "      <td>No</td>\n",
       "    </tr>\n",
       "    <tr>\n",
       "      <th>3</th>\n",
       "      <td>61076</td>\n",
       "      <td>2018-01-31 14:53:23.5620</td>\n",
       "      <td>2018-02-01 07:51:20.5000</td>\n",
       "      <td>75</td>\n",
       "      <td>Market St at Franklin St</td>\n",
       "      <td>37.773793</td>\n",
       "      <td>-122.421239</td>\n",
       "      <td>47</td>\n",
       "      <td>4th St at Harrison St</td>\n",
       "      <td>37.780955</td>\n",
       "      <td>-122.399749</td>\n",
       "      <td>321</td>\n",
       "      <td>Customer</td>\n",
       "      <td>NaN</td>\n",
       "      <td>NaN</td>\n",
       "      <td>No</td>\n",
       "    </tr>\n",
       "    <tr>\n",
       "      <th>4</th>\n",
       "      <td>39966</td>\n",
       "      <td>2018-01-31 19:52:24.6670</td>\n",
       "      <td>2018-02-01 06:58:31.0530</td>\n",
       "      <td>74</td>\n",
       "      <td>Laguna St at Hayes St</td>\n",
       "      <td>37.776435</td>\n",
       "      <td>-122.426244</td>\n",
       "      <td>19</td>\n",
       "      <td>Post St at Kearny St</td>\n",
       "      <td>37.788975</td>\n",
       "      <td>-122.403452</td>\n",
       "      <td>617</td>\n",
       "      <td>Subscriber</td>\n",
       "      <td>1991.0</td>\n",
       "      <td>Male</td>\n",
       "      <td>No</td>\n",
       "    </tr>\n",
       "    <tr>\n",
       "      <th>5</th>\n",
       "      <td>6477</td>\n",
       "      <td>2018-01-31 22:58:44.8670</td>\n",
       "      <td>2018-02-01 00:46:41.9080</td>\n",
       "      <td>236</td>\n",
       "      <td>Market St at 8th St</td>\n",
       "      <td>37.803686</td>\n",
       "      <td>-122.282497</td>\n",
       "      <td>160</td>\n",
       "      <td>West Oakland BART Station</td>\n",
       "      <td>37.805318</td>\n",
       "      <td>-122.294837</td>\n",
       "      <td>1306</td>\n",
       "      <td>Customer</td>\n",
       "      <td>NaN</td>\n",
       "      <td>NaN</td>\n",
       "      <td>No</td>\n",
       "    </tr>\n",
       "    <tr>\n",
       "      <th>6</th>\n",
       "      <td>453</td>\n",
       "      <td>2018-01-31 23:53:53.6320</td>\n",
       "      <td>2018-02-01 00:01:26.8050</td>\n",
       "      <td>110</td>\n",
       "      <td>17th &amp; Folsom Street Park (17th St at Folsom St)</td>\n",
       "      <td>37.763708</td>\n",
       "      <td>-122.415204</td>\n",
       "      <td>134</td>\n",
       "      <td>Valencia St at 24th St</td>\n",
       "      <td>37.752428</td>\n",
       "      <td>-122.420628</td>\n",
       "      <td>3571</td>\n",
       "      <td>Subscriber</td>\n",
       "      <td>1988.0</td>\n",
       "      <td>Male</td>\n",
       "      <td>No</td>\n",
       "    </tr>\n",
       "    <tr>\n",
       "      <th>7</th>\n",
       "      <td>180</td>\n",
       "      <td>2018-01-31 23:52:09.9030</td>\n",
       "      <td>2018-01-31 23:55:10.8070</td>\n",
       "      <td>81</td>\n",
       "      <td>Berry St at 4th St</td>\n",
       "      <td>37.775880</td>\n",
       "      <td>-122.393170</td>\n",
       "      <td>93</td>\n",
       "      <td>4th St at Mission Bay Blvd S</td>\n",
       "      <td>37.770407</td>\n",
       "      <td>-122.391198</td>\n",
       "      <td>1403</td>\n",
       "      <td>Subscriber</td>\n",
       "      <td>1980.0</td>\n",
       "      <td>Male</td>\n",
       "      <td>No</td>\n",
       "    </tr>\n",
       "    <tr>\n",
       "      <th>8</th>\n",
       "      <td>996</td>\n",
       "      <td>2018-01-31 23:34:56.0040</td>\n",
       "      <td>2018-01-31 23:51:32.6740</td>\n",
       "      <td>134</td>\n",
       "      <td>Valencia St at 24th St</td>\n",
       "      <td>37.752428</td>\n",
       "      <td>-122.420628</td>\n",
       "      <td>4</td>\n",
       "      <td>Cyril Magnin St at Ellis St</td>\n",
       "      <td>37.785881</td>\n",
       "      <td>-122.408915</td>\n",
       "      <td>3675</td>\n",
       "      <td>Subscriber</td>\n",
       "      <td>1987.0</td>\n",
       "      <td>Male</td>\n",
       "      <td>Yes</td>\n",
       "    </tr>\n",
       "    <tr>\n",
       "      <th>9</th>\n",
       "      <td>825</td>\n",
       "      <td>2018-01-31 23:34:14.0270</td>\n",
       "      <td>2018-01-31 23:47:59.8090</td>\n",
       "      <td>305</td>\n",
       "      <td>Ryland Park</td>\n",
       "      <td>37.342725</td>\n",
       "      <td>-121.895617</td>\n",
       "      <td>317</td>\n",
       "      <td>San Salvador St at 9th St</td>\n",
       "      <td>37.333955</td>\n",
       "      <td>-121.877349</td>\n",
       "      <td>1453</td>\n",
       "      <td>Subscriber</td>\n",
       "      <td>1994.0</td>\n",
       "      <td>Female</td>\n",
       "      <td>Yes</td>\n",
       "    </tr>\n",
       "    <tr>\n",
       "      <th>10</th>\n",
       "      <td>1316</td>\n",
       "      <td>2018-01-31 23:24:00.4160</td>\n",
       "      <td>2018-01-31 23:45:56.8240</td>\n",
       "      <td>98</td>\n",
       "      <td>Valencia St at 16th St</td>\n",
       "      <td>37.765052</td>\n",
       "      <td>-122.421866</td>\n",
       "      <td>4</td>\n",
       "      <td>Cyril Magnin St at Ellis St</td>\n",
       "      <td>37.785881</td>\n",
       "      <td>-122.408915</td>\n",
       "      <td>1278</td>\n",
       "      <td>Customer</td>\n",
       "      <td>NaN</td>\n",
       "      <td>NaN</td>\n",
       "      <td>No</td>\n",
       "    </tr>\n",
       "    <tr>\n",
       "      <th>11</th>\n",
       "      <td>432</td>\n",
       "      <td>2018-01-31 23:34:26.4840</td>\n",
       "      <td>2018-01-31 23:41:39.2970</td>\n",
       "      <td>89</td>\n",
       "      <td>Division St at Potrero Ave</td>\n",
       "      <td>37.769218</td>\n",
       "      <td>-122.407646</td>\n",
       "      <td>43</td>\n",
       "      <td>San Francisco Public Library (Grove St at Hyde...</td>\n",
       "      <td>37.778768</td>\n",
       "      <td>-122.415929</td>\n",
       "      <td>2928</td>\n",
       "      <td>Subscriber</td>\n",
       "      <td>1993.0</td>\n",
       "      <td>Male</td>\n",
       "      <td>No</td>\n",
       "    </tr>\n",
       "    <tr>\n",
       "      <th>12</th>\n",
       "      <td>601</td>\n",
       "      <td>2018-01-31 23:29:46.8320</td>\n",
       "      <td>2018-01-31 23:39:48.0000</td>\n",
       "      <td>223</td>\n",
       "      <td>16th St Mission BART Station 2</td>\n",
       "      <td>37.764765</td>\n",
       "      <td>-122.420091</td>\n",
       "      <td>86</td>\n",
       "      <td>Market St at Dolores St</td>\n",
       "      <td>37.769305</td>\n",
       "      <td>-122.426826</td>\n",
       "      <td>3016</td>\n",
       "      <td>Subscriber</td>\n",
       "      <td>1957.0</td>\n",
       "      <td>Male</td>\n",
       "      <td>No</td>\n",
       "    </tr>\n",
       "    <tr>\n",
       "      <th>13</th>\n",
       "      <td>887</td>\n",
       "      <td>2018-01-31 23:24:16.3570</td>\n",
       "      <td>2018-01-31 23:39:04.1230</td>\n",
       "      <td>308</td>\n",
       "      <td>San Pedro Square</td>\n",
       "      <td>37.336802</td>\n",
       "      <td>-121.894090</td>\n",
       "      <td>297</td>\n",
       "      <td>Locust St at Grant St</td>\n",
       "      <td>37.322980</td>\n",
       "      <td>-121.887931</td>\n",
       "      <td>55</td>\n",
       "      <td>Subscriber</td>\n",
       "      <td>1976.0</td>\n",
       "      <td>Female</td>\n",
       "      <td>Yes</td>\n",
       "    </tr>\n",
       "    <tr>\n",
       "      <th>14</th>\n",
       "      <td>210</td>\n",
       "      <td>2018-01-31 23:33:03.0460</td>\n",
       "      <td>2018-01-31 23:36:33.7040</td>\n",
       "      <td>7</td>\n",
       "      <td>Frank H Ogawa Plaza</td>\n",
       "      <td>37.804562</td>\n",
       "      <td>-122.271738</td>\n",
       "      <td>186</td>\n",
       "      <td>Lakeside Dr at 14th St</td>\n",
       "      <td>37.801319</td>\n",
       "      <td>-122.262642</td>\n",
       "      <td>2602</td>\n",
       "      <td>Subscriber</td>\n",
       "      <td>1976.0</td>\n",
       "      <td>Male</td>\n",
       "      <td>No</td>\n",
       "    </tr>\n",
       "    <tr>\n",
       "      <th>15</th>\n",
       "      <td>188</td>\n",
       "      <td>2018-01-31 23:30:58.1360</td>\n",
       "      <td>2018-01-31 23:34:06.3910</td>\n",
       "      <td>98</td>\n",
       "      <td>Valencia St at 16th St</td>\n",
       "      <td>37.765052</td>\n",
       "      <td>-122.421866</td>\n",
       "      <td>76</td>\n",
       "      <td>McCoppin St at Valencia St</td>\n",
       "      <td>37.771662</td>\n",
       "      <td>-122.422423</td>\n",
       "      <td>2556</td>\n",
       "      <td>Subscriber</td>\n",
       "      <td>1964.0</td>\n",
       "      <td>Female</td>\n",
       "      <td>No</td>\n",
       "    </tr>\n",
       "    <tr>\n",
       "      <th>16</th>\n",
       "      <td>808</td>\n",
       "      <td>2018-01-31 23:19:58.6030</td>\n",
       "      <td>2018-01-31 23:33:27.5310</td>\n",
       "      <td>67</td>\n",
       "      <td>San Francisco Caltrain Station 2  (Townsend St...</td>\n",
       "      <td>37.776639</td>\n",
       "      <td>-122.395526</td>\n",
       "      <td>98</td>\n",
       "      <td>Valencia St at 16th St</td>\n",
       "      <td>37.765052</td>\n",
       "      <td>-122.421866</td>\n",
       "      <td>3041</td>\n",
       "      <td>Subscriber</td>\n",
       "      <td>1976.0</td>\n",
       "      <td>Male</td>\n",
       "      <td>Yes</td>\n",
       "    </tr>\n",
       "    <tr>\n",
       "      <th>17</th>\n",
       "      <td>378</td>\n",
       "      <td>2018-01-31 23:23:23.0680</td>\n",
       "      <td>2018-01-31 23:29:42.0440</td>\n",
       "      <td>80</td>\n",
       "      <td>Townsend St at 5th St</td>\n",
       "      <td>37.775306</td>\n",
       "      <td>-122.397380</td>\n",
       "      <td>78</td>\n",
       "      <td>Folsom St at 9th St</td>\n",
       "      <td>37.773717</td>\n",
       "      <td>-122.411647</td>\n",
       "      <td>546</td>\n",
       "      <td>Subscriber</td>\n",
       "      <td>1995.0</td>\n",
       "      <td>Female</td>\n",
       "      <td>No</td>\n",
       "    </tr>\n",
       "    <tr>\n",
       "      <th>18</th>\n",
       "      <td>350</td>\n",
       "      <td>2018-01-31 23:13:45.5290</td>\n",
       "      <td>2018-01-31 23:19:36.2650</td>\n",
       "      <td>247</td>\n",
       "      <td>Fulton St at Bancroft Way</td>\n",
       "      <td>37.867789</td>\n",
       "      <td>-122.265896</td>\n",
       "      <td>274</td>\n",
       "      <td>Oregon St at Adeline St</td>\n",
       "      <td>37.857567</td>\n",
       "      <td>-122.267558</td>\n",
       "      <td>431</td>\n",
       "      <td>Subscriber</td>\n",
       "      <td>NaN</td>\n",
       "      <td>NaN</td>\n",
       "      <td>No</td>\n",
       "    </tr>\n",
       "    <tr>\n",
       "      <th>19</th>\n",
       "      <td>686</td>\n",
       "      <td>2018-01-31 23:07:15.3130</td>\n",
       "      <td>2018-01-31 23:18:41.5580</td>\n",
       "      <td>312</td>\n",
       "      <td>San Jose Diridon Station</td>\n",
       "      <td>37.329732</td>\n",
       "      <td>-121.901782</td>\n",
       "      <td>317</td>\n",
       "      <td>San Salvador St at 9th St</td>\n",
       "      <td>37.333955</td>\n",
       "      <td>-121.877349</td>\n",
       "      <td>1886</td>\n",
       "      <td>Subscriber</td>\n",
       "      <td>1997.0</td>\n",
       "      <td>Female</td>\n",
       "      <td>No</td>\n",
       "    </tr>\n",
       "    <tr>\n",
       "      <th>20</th>\n",
       "      <td>450</td>\n",
       "      <td>2018-01-31 23:07:13.0630</td>\n",
       "      <td>2018-01-31 23:14:43.8140</td>\n",
       "      <td>241</td>\n",
       "      <td>Ashby BART Station</td>\n",
       "      <td>37.852477</td>\n",
       "      <td>-122.270213</td>\n",
       "      <td>157</td>\n",
       "      <td>65th St at Hollis St</td>\n",
       "      <td>37.846784</td>\n",
       "      <td>-122.291376</td>\n",
       "      <td>3583</td>\n",
       "      <td>Subscriber</td>\n",
       "      <td>1994.0</td>\n",
       "      <td>Male</td>\n",
       "      <td>No</td>\n",
       "    </tr>\n",
       "    <tr>\n",
       "      <th>21</th>\n",
       "      <td>294</td>\n",
       "      <td>2018-01-31 23:08:12.0000</td>\n",
       "      <td>2018-01-31 23:13:06.6360</td>\n",
       "      <td>239</td>\n",
       "      <td>Bancroft Way at Telegraph Ave</td>\n",
       "      <td>37.868813</td>\n",
       "      <td>-122.258764</td>\n",
       "      <td>244</td>\n",
       "      <td>Shattuck Ave at Hearst Ave</td>\n",
       "      <td>37.873792</td>\n",
       "      <td>-122.268618</td>\n",
       "      <td>2144</td>\n",
       "      <td>Subscriber</td>\n",
       "      <td>1983.0</td>\n",
       "      <td>Male</td>\n",
       "      <td>No</td>\n",
       "    </tr>\n",
       "    <tr>\n",
       "      <th>22</th>\n",
       "      <td>150</td>\n",
       "      <td>2018-01-31 23:10:09.5860</td>\n",
       "      <td>2018-01-31 23:12:40.3330</td>\n",
       "      <td>182</td>\n",
       "      <td>19th Street BART Station</td>\n",
       "      <td>37.809013</td>\n",
       "      <td>-122.268247</td>\n",
       "      <td>183</td>\n",
       "      <td>Telegraph Ave at 19th St</td>\n",
       "      <td>37.808702</td>\n",
       "      <td>-122.269927</td>\n",
       "      <td>3468</td>\n",
       "      <td>Subscriber</td>\n",
       "      <td>1945.0</td>\n",
       "      <td>Male</td>\n",
       "      <td>Yes</td>\n",
       "    </tr>\n",
       "    <tr>\n",
       "      <th>23</th>\n",
       "      <td>462</td>\n",
       "      <td>2018-01-31 23:03:48.9400</td>\n",
       "      <td>2018-01-31 23:11:31.0290</td>\n",
       "      <td>119</td>\n",
       "      <td>18th St at Noe St</td>\n",
       "      <td>37.761047</td>\n",
       "      <td>-122.432642</td>\n",
       "      <td>134</td>\n",
       "      <td>Valencia St at 24th St</td>\n",
       "      <td>37.752428</td>\n",
       "      <td>-122.420628</td>\n",
       "      <td>1432</td>\n",
       "      <td>Subscriber</td>\n",
       "      <td>1971.0</td>\n",
       "      <td>Male</td>\n",
       "      <td>Yes</td>\n",
       "    </tr>\n",
       "    <tr>\n",
       "      <th>24</th>\n",
       "      <td>379</td>\n",
       "      <td>2018-01-31 23:04:27.7010</td>\n",
       "      <td>2018-01-31 23:10:46.9760</td>\n",
       "      <td>176</td>\n",
       "      <td>MacArthur BART Station</td>\n",
       "      <td>37.828410</td>\n",
       "      <td>-122.266315</td>\n",
       "      <td>189</td>\n",
       "      <td>Genoa St at 55th St</td>\n",
       "      <td>37.839649</td>\n",
       "      <td>-122.271756</td>\n",
       "      <td>997</td>\n",
       "      <td>Subscriber</td>\n",
       "      <td>1975.0</td>\n",
       "      <td>Male</td>\n",
       "      <td>No</td>\n",
       "    </tr>\n",
       "    <tr>\n",
       "      <th>25</th>\n",
       "      <td>880</td>\n",
       "      <td>2018-01-31 22:53:41.3020</td>\n",
       "      <td>2018-01-31 23:08:21.4430</td>\n",
       "      <td>123</td>\n",
       "      <td>Folsom St at 19th St</td>\n",
       "      <td>37.760594</td>\n",
       "      <td>-122.414817</td>\n",
       "      <td>145</td>\n",
       "      <td>29th St at Church St</td>\n",
       "      <td>37.743684</td>\n",
       "      <td>-122.426806</td>\n",
       "      <td>3725</td>\n",
       "      <td>Subscriber</td>\n",
       "      <td>1986.0</td>\n",
       "      <td>Male</td>\n",
       "      <td>No</td>\n",
       "    </tr>\n",
       "    <tr>\n",
       "      <th>26</th>\n",
       "      <td>1210</td>\n",
       "      <td>2018-01-31 22:45:37.1250</td>\n",
       "      <td>2018-01-31 23:05:47.5760</td>\n",
       "      <td>285</td>\n",
       "      <td>Webster St at O'Farrell St</td>\n",
       "      <td>37.783521</td>\n",
       "      <td>-122.431158</td>\n",
       "      <td>133</td>\n",
       "      <td>Valencia St at 22nd St</td>\n",
       "      <td>37.755213</td>\n",
       "      <td>-122.420975</td>\n",
       "      <td>1059</td>\n",
       "      <td>Subscriber</td>\n",
       "      <td>1991.0</td>\n",
       "      <td>Male</td>\n",
       "      <td>No</td>\n",
       "    </tr>\n",
       "    <tr>\n",
       "      <th>27</th>\n",
       "      <td>259</td>\n",
       "      <td>2018-01-31 23:01:12.7920</td>\n",
       "      <td>2018-01-31 23:05:32.1570</td>\n",
       "      <td>239</td>\n",
       "      <td>Bancroft Way at Telegraph Ave</td>\n",
       "      <td>37.868813</td>\n",
       "      <td>-122.258764</td>\n",
       "      <td>266</td>\n",
       "      <td>Parker St at Fulton St</td>\n",
       "      <td>37.862464</td>\n",
       "      <td>-122.264791</td>\n",
       "      <td>1208</td>\n",
       "      <td>Subscriber</td>\n",
       "      <td>1994.0</td>\n",
       "      <td>Male</td>\n",
       "      <td>No</td>\n",
       "    </tr>\n",
       "    <tr>\n",
       "      <th>28</th>\n",
       "      <td>592</td>\n",
       "      <td>2018-01-31 22:53:27.7790</td>\n",
       "      <td>2018-01-31 23:03:20.2900</td>\n",
       "      <td>202</td>\n",
       "      <td>Washington St at 8th St</td>\n",
       "      <td>37.800754</td>\n",
       "      <td>-122.274894</td>\n",
       "      <td>195</td>\n",
       "      <td>Bay Pl at Vernon St</td>\n",
       "      <td>37.812314</td>\n",
       "      <td>-122.260779</td>\n",
       "      <td>1834</td>\n",
       "      <td>Customer</td>\n",
       "      <td>1978.0</td>\n",
       "      <td>Male</td>\n",
       "      <td>No</td>\n",
       "    </tr>\n",
       "    <tr>\n",
       "      <th>29</th>\n",
       "      <td>1059</td>\n",
       "      <td>2018-01-31 22:45:16.5700</td>\n",
       "      <td>2018-01-31 23:02:56.2850</td>\n",
       "      <td>141</td>\n",
       "      <td>Valencia St at Cesar Chavez St</td>\n",
       "      <td>37.747998</td>\n",
       "      <td>-122.420219</td>\n",
       "      <td>79</td>\n",
       "      <td>7th St at Brannan St</td>\n",
       "      <td>37.773492</td>\n",
       "      <td>-122.403673</td>\n",
       "      <td>1248</td>\n",
       "      <td>Subscriber</td>\n",
       "      <td>1988.0</td>\n",
       "      <td>Male</td>\n",
       "      <td>No</td>\n",
       "    </tr>\n",
       "    <tr>\n",
       "      <th>...</th>\n",
       "      <td>...</td>\n",
       "      <td>...</td>\n",
       "      <td>...</td>\n",
       "      <td>...</td>\n",
       "      <td>...</td>\n",
       "      <td>...</td>\n",
       "      <td>...</td>\n",
       "      <td>...</td>\n",
       "      <td>...</td>\n",
       "      <td>...</td>\n",
       "      <td>...</td>\n",
       "      <td>...</td>\n",
       "      <td>...</td>\n",
       "      <td>...</td>\n",
       "      <td>...</td>\n",
       "      <td>...</td>\n",
       "    </tr>\n",
       "    <tr>\n",
       "      <th>94772</th>\n",
       "      <td>1088</td>\n",
       "      <td>2018-01-01 00:40:34.5410</td>\n",
       "      <td>2018-01-01 00:58:42.7160</td>\n",
       "      <td>25</td>\n",
       "      <td>Howard St at 2nd St</td>\n",
       "      <td>37.787522</td>\n",
       "      <td>-122.397405</td>\n",
       "      <td>97</td>\n",
       "      <td>14th St at Mission St</td>\n",
       "      <td>37.768265</td>\n",
       "      <td>-122.420110</td>\n",
       "      <td>3242</td>\n",
       "      <td>Customer</td>\n",
       "      <td>1992.0</td>\n",
       "      <td>Male</td>\n",
       "      <td>No</td>\n",
       "    </tr>\n",
       "    <tr>\n",
       "      <th>94773</th>\n",
       "      <td>2284</td>\n",
       "      <td>2018-01-01 00:20:29.7820</td>\n",
       "      <td>2018-01-01 00:58:34.0220</td>\n",
       "      <td>15</td>\n",
       "      <td>San Francisco Ferry Building (Harry Bridges Pl...</td>\n",
       "      <td>37.795392</td>\n",
       "      <td>-122.394203</td>\n",
       "      <td>17</td>\n",
       "      <td>Embarcadero BART Station (Beale St at Market St)</td>\n",
       "      <td>37.792251</td>\n",
       "      <td>-122.397086</td>\n",
       "      <td>2941</td>\n",
       "      <td>Customer</td>\n",
       "      <td>NaN</td>\n",
       "      <td>NaN</td>\n",
       "      <td>No</td>\n",
       "    </tr>\n",
       "    <tr>\n",
       "      <th>94774</th>\n",
       "      <td>1294</td>\n",
       "      <td>2018-01-01 00:36:00.0300</td>\n",
       "      <td>2018-01-01 00:57:34.8870</td>\n",
       "      <td>22</td>\n",
       "      <td>Howard St at Beale St</td>\n",
       "      <td>37.789756</td>\n",
       "      <td>-122.394643</td>\n",
       "      <td>110</td>\n",
       "      <td>17th &amp; Folsom Street Park (17th St at Folsom St)</td>\n",
       "      <td>37.763708</td>\n",
       "      <td>-122.415204</td>\n",
       "      <td>2085</td>\n",
       "      <td>Customer</td>\n",
       "      <td>NaN</td>\n",
       "      <td>NaN</td>\n",
       "      <td>No</td>\n",
       "    </tr>\n",
       "    <tr>\n",
       "      <th>94775</th>\n",
       "      <td>1144</td>\n",
       "      <td>2018-01-01 00:38:26.1560</td>\n",
       "      <td>2018-01-01 00:57:30.6940</td>\n",
       "      <td>22</td>\n",
       "      <td>Howard St at Beale St</td>\n",
       "      <td>37.789756</td>\n",
       "      <td>-122.394643</td>\n",
       "      <td>110</td>\n",
       "      <td>17th &amp; Folsom Street Park (17th St at Folsom St)</td>\n",
       "      <td>37.763708</td>\n",
       "      <td>-122.415204</td>\n",
       "      <td>1290</td>\n",
       "      <td>Customer</td>\n",
       "      <td>NaN</td>\n",
       "      <td>NaN</td>\n",
       "      <td>No</td>\n",
       "    </tr>\n",
       "    <tr>\n",
       "      <th>94776</th>\n",
       "      <td>277</td>\n",
       "      <td>2018-01-01 00:50:11.6760</td>\n",
       "      <td>2018-01-01 00:54:49.5630</td>\n",
       "      <td>198</td>\n",
       "      <td>Snow Park</td>\n",
       "      <td>37.807813</td>\n",
       "      <td>-122.264496</td>\n",
       "      <td>195</td>\n",
       "      <td>Bay Pl at Vernon St</td>\n",
       "      <td>37.812314</td>\n",
       "      <td>-122.260779</td>\n",
       "      <td>890</td>\n",
       "      <td>Subscriber</td>\n",
       "      <td>1975.0</td>\n",
       "      <td>Female</td>\n",
       "      <td>No</td>\n",
       "    </tr>\n",
       "    <tr>\n",
       "      <th>94777</th>\n",
       "      <td>293</td>\n",
       "      <td>2018-01-01 00:47:06.5180</td>\n",
       "      <td>2018-01-01 00:52:00.4500</td>\n",
       "      <td>179</td>\n",
       "      <td>Telegraph Ave at 27th St</td>\n",
       "      <td>37.816073</td>\n",
       "      <td>-122.267886</td>\n",
       "      <td>215</td>\n",
       "      <td>34th St at Telegraph Ave</td>\n",
       "      <td>37.822547</td>\n",
       "      <td>-122.266318</td>\n",
       "      <td>2236</td>\n",
       "      <td>Customer</td>\n",
       "      <td>NaN</td>\n",
       "      <td>NaN</td>\n",
       "      <td>No</td>\n",
       "    </tr>\n",
       "    <tr>\n",
       "      <th>94778</th>\n",
       "      <td>270</td>\n",
       "      <td>2018-01-01 00:47:22.4370</td>\n",
       "      <td>2018-01-01 00:51:52.8360</td>\n",
       "      <td>179</td>\n",
       "      <td>Telegraph Ave at 27th St</td>\n",
       "      <td>37.816073</td>\n",
       "      <td>-122.267886</td>\n",
       "      <td>215</td>\n",
       "      <td>34th St at Telegraph Ave</td>\n",
       "      <td>37.822547</td>\n",
       "      <td>-122.266318</td>\n",
       "      <td>1555</td>\n",
       "      <td>Customer</td>\n",
       "      <td>NaN</td>\n",
       "      <td>NaN</td>\n",
       "      <td>No</td>\n",
       "    </tr>\n",
       "    <tr>\n",
       "      <th>94779</th>\n",
       "      <td>1699</td>\n",
       "      <td>2018-01-01 00:23:25.8890</td>\n",
       "      <td>2018-01-01 00:51:45.8490</td>\n",
       "      <td>23</td>\n",
       "      <td>The Embarcadero at Steuart St</td>\n",
       "      <td>37.791464</td>\n",
       "      <td>-122.391034</td>\n",
       "      <td>19</td>\n",
       "      <td>Post St at Kearny St</td>\n",
       "      <td>37.788975</td>\n",
       "      <td>-122.403452</td>\n",
       "      <td>3375</td>\n",
       "      <td>Customer</td>\n",
       "      <td>NaN</td>\n",
       "      <td>NaN</td>\n",
       "      <td>No</td>\n",
       "    </tr>\n",
       "    <tr>\n",
       "      <th>94780</th>\n",
       "      <td>1942</td>\n",
       "      <td>2018-01-01 00:19:19.6540</td>\n",
       "      <td>2018-01-01 00:51:42.1200</td>\n",
       "      <td>23</td>\n",
       "      <td>The Embarcadero at Steuart St</td>\n",
       "      <td>37.791464</td>\n",
       "      <td>-122.391034</td>\n",
       "      <td>19</td>\n",
       "      <td>Post St at Kearny St</td>\n",
       "      <td>37.788975</td>\n",
       "      <td>-122.403452</td>\n",
       "      <td>1112</td>\n",
       "      <td>Customer</td>\n",
       "      <td>NaN</td>\n",
       "      <td>NaN</td>\n",
       "      <td>No</td>\n",
       "    </tr>\n",
       "    <tr>\n",
       "      <th>94781</th>\n",
       "      <td>1928</td>\n",
       "      <td>2018-01-01 00:19:33.3150</td>\n",
       "      <td>2018-01-01 00:51:41.3280</td>\n",
       "      <td>23</td>\n",
       "      <td>The Embarcadero at Steuart St</td>\n",
       "      <td>37.791464</td>\n",
       "      <td>-122.391034</td>\n",
       "      <td>19</td>\n",
       "      <td>Post St at Kearny St</td>\n",
       "      <td>37.788975</td>\n",
       "      <td>-122.403452</td>\n",
       "      <td>3496</td>\n",
       "      <td>Customer</td>\n",
       "      <td>NaN</td>\n",
       "      <td>NaN</td>\n",
       "      <td>No</td>\n",
       "    </tr>\n",
       "    <tr>\n",
       "      <th>94782</th>\n",
       "      <td>1928</td>\n",
       "      <td>2018-01-01 00:19:21.5860</td>\n",
       "      <td>2018-01-01 00:51:29.6840</td>\n",
       "      <td>23</td>\n",
       "      <td>The Embarcadero at Steuart St</td>\n",
       "      <td>37.791464</td>\n",
       "      <td>-122.391034</td>\n",
       "      <td>19</td>\n",
       "      <td>Post St at Kearny St</td>\n",
       "      <td>37.788975</td>\n",
       "      <td>-122.403452</td>\n",
       "      <td>2522</td>\n",
       "      <td>Customer</td>\n",
       "      <td>NaN</td>\n",
       "      <td>NaN</td>\n",
       "      <td>No</td>\n",
       "    </tr>\n",
       "    <tr>\n",
       "      <th>94783</th>\n",
       "      <td>1866</td>\n",
       "      <td>2018-01-01 00:20:21.6800</td>\n",
       "      <td>2018-01-01 00:51:28.0690</td>\n",
       "      <td>23</td>\n",
       "      <td>The Embarcadero at Steuart St</td>\n",
       "      <td>37.791464</td>\n",
       "      <td>-122.391034</td>\n",
       "      <td>19</td>\n",
       "      <td>Post St at Kearny St</td>\n",
       "      <td>37.788975</td>\n",
       "      <td>-122.403452</td>\n",
       "      <td>2721</td>\n",
       "      <td>Customer</td>\n",
       "      <td>NaN</td>\n",
       "      <td>NaN</td>\n",
       "      <td>No</td>\n",
       "    </tr>\n",
       "    <tr>\n",
       "      <th>94784</th>\n",
       "      <td>1352</td>\n",
       "      <td>2018-01-01 00:28:16.1280</td>\n",
       "      <td>2018-01-01 00:50:48.2700</td>\n",
       "      <td>97</td>\n",
       "      <td>14th St at Mission St</td>\n",
       "      <td>37.768265</td>\n",
       "      <td>-122.420110</td>\n",
       "      <td>27</td>\n",
       "      <td>Beale St at Harrison St</td>\n",
       "      <td>37.788059</td>\n",
       "      <td>-122.391865</td>\n",
       "      <td>3562</td>\n",
       "      <td>Subscriber</td>\n",
       "      <td>1980.0</td>\n",
       "      <td>Male</td>\n",
       "      <td>No</td>\n",
       "    </tr>\n",
       "    <tr>\n",
       "      <th>94785</th>\n",
       "      <td>527</td>\n",
       "      <td>2018-01-01 00:41:11.2310</td>\n",
       "      <td>2018-01-01 00:49:58.9970</td>\n",
       "      <td>79</td>\n",
       "      <td>7th St at Brannan St</td>\n",
       "      <td>37.773492</td>\n",
       "      <td>-122.403673</td>\n",
       "      <td>44</td>\n",
       "      <td>Civic Center/UN Plaza BART Station (Market St ...</td>\n",
       "      <td>37.781074</td>\n",
       "      <td>-122.411738</td>\n",
       "      <td>3386</td>\n",
       "      <td>Subscriber</td>\n",
       "      <td>1985.0</td>\n",
       "      <td>Female</td>\n",
       "      <td>No</td>\n",
       "    </tr>\n",
       "    <tr>\n",
       "      <th>94786</th>\n",
       "      <td>516</td>\n",
       "      <td>2018-01-01 00:41:11.4350</td>\n",
       "      <td>2018-01-01 00:49:47.8650</td>\n",
       "      <td>79</td>\n",
       "      <td>7th St at Brannan St</td>\n",
       "      <td>37.773492</td>\n",
       "      <td>-122.403673</td>\n",
       "      <td>44</td>\n",
       "      <td>Civic Center/UN Plaza BART Station (Market St ...</td>\n",
       "      <td>37.781074</td>\n",
       "      <td>-122.411738</td>\n",
       "      <td>1793</td>\n",
       "      <td>Subscriber</td>\n",
       "      <td>1981.0</td>\n",
       "      <td>Female</td>\n",
       "      <td>No</td>\n",
       "    </tr>\n",
       "    <tr>\n",
       "      <th>94787</th>\n",
       "      <td>211</td>\n",
       "      <td>2018-01-01 00:42:55.1300</td>\n",
       "      <td>2018-01-01 00:46:26.7540</td>\n",
       "      <td>215</td>\n",
       "      <td>34th St at Telegraph Ave</td>\n",
       "      <td>37.822547</td>\n",
       "      <td>-122.266318</td>\n",
       "      <td>192</td>\n",
       "      <td>37th St at West St</td>\n",
       "      <td>37.826696</td>\n",
       "      <td>-122.271796</td>\n",
       "      <td>2278</td>\n",
       "      <td>Subscriber</td>\n",
       "      <td>1980.0</td>\n",
       "      <td>Male</td>\n",
       "      <td>No</td>\n",
       "    </tr>\n",
       "    <tr>\n",
       "      <th>94788</th>\n",
       "      <td>1177</td>\n",
       "      <td>2018-01-01 00:21:31.4350</td>\n",
       "      <td>2018-01-01 00:41:08.4570</td>\n",
       "      <td>8</td>\n",
       "      <td>The Embarcadero at Vallejo St</td>\n",
       "      <td>37.799953</td>\n",
       "      <td>-122.398525</td>\n",
       "      <td>17</td>\n",
       "      <td>Embarcadero BART Station (Beale St at Market St)</td>\n",
       "      <td>37.792251</td>\n",
       "      <td>-122.397086</td>\n",
       "      <td>283</td>\n",
       "      <td>Customer</td>\n",
       "      <td>NaN</td>\n",
       "      <td>NaN</td>\n",
       "      <td>No</td>\n",
       "    </tr>\n",
       "    <tr>\n",
       "      <th>94789</th>\n",
       "      <td>1043</td>\n",
       "      <td>2018-01-01 00:23:39.1320</td>\n",
       "      <td>2018-01-01 00:41:02.4170</td>\n",
       "      <td>8</td>\n",
       "      <td>The Embarcadero at Vallejo St</td>\n",
       "      <td>37.799953</td>\n",
       "      <td>-122.398525</td>\n",
       "      <td>17</td>\n",
       "      <td>Embarcadero BART Station (Beale St at Market St)</td>\n",
       "      <td>37.792251</td>\n",
       "      <td>-122.397086</td>\n",
       "      <td>1979</td>\n",
       "      <td>Customer</td>\n",
       "      <td>NaN</td>\n",
       "      <td>NaN</td>\n",
       "      <td>No</td>\n",
       "    </tr>\n",
       "    <tr>\n",
       "      <th>94790</th>\n",
       "      <td>1178</td>\n",
       "      <td>2018-01-01 00:21:23.4470</td>\n",
       "      <td>2018-01-01 00:41:01.4580</td>\n",
       "      <td>8</td>\n",
       "      <td>The Embarcadero at Vallejo St</td>\n",
       "      <td>37.799953</td>\n",
       "      <td>-122.398525</td>\n",
       "      <td>17</td>\n",
       "      <td>Embarcadero BART Station (Beale St at Market St)</td>\n",
       "      <td>37.792251</td>\n",
       "      <td>-122.397086</td>\n",
       "      <td>1031</td>\n",
       "      <td>Customer</td>\n",
       "      <td>NaN</td>\n",
       "      <td>NaN</td>\n",
       "      <td>No</td>\n",
       "    </tr>\n",
       "    <tr>\n",
       "      <th>94791</th>\n",
       "      <td>1451</td>\n",
       "      <td>2018-01-01 00:15:30.5200</td>\n",
       "      <td>2018-01-01 00:39:42.4910</td>\n",
       "      <td>55</td>\n",
       "      <td>Webster St at Grove St</td>\n",
       "      <td>37.777053</td>\n",
       "      <td>-122.429558</td>\n",
       "      <td>29</td>\n",
       "      <td>O'Farrell St at Divisadero St</td>\n",
       "      <td>37.782405</td>\n",
       "      <td>-122.439446</td>\n",
       "      <td>1128</td>\n",
       "      <td>Customer</td>\n",
       "      <td>NaN</td>\n",
       "      <td>NaN</td>\n",
       "      <td>No</td>\n",
       "    </tr>\n",
       "    <tr>\n",
       "      <th>94792</th>\n",
       "      <td>1099</td>\n",
       "      <td>2018-01-01 00:20:47.3600</td>\n",
       "      <td>2018-01-01 00:39:07.1620</td>\n",
       "      <td>16</td>\n",
       "      <td>Steuart St at Market St</td>\n",
       "      <td>37.794130</td>\n",
       "      <td>-122.394430</td>\n",
       "      <td>93</td>\n",
       "      <td>4th St at Mission Bay Blvd S</td>\n",
       "      <td>37.770407</td>\n",
       "      <td>-122.391198</td>\n",
       "      <td>2670</td>\n",
       "      <td>Customer</td>\n",
       "      <td>1984.0</td>\n",
       "      <td>Female</td>\n",
       "      <td>No</td>\n",
       "    </tr>\n",
       "    <tr>\n",
       "      <th>94793</th>\n",
       "      <td>1359</td>\n",
       "      <td>2018-01-01 00:14:37.1870</td>\n",
       "      <td>2018-01-01 00:37:16.4450</td>\n",
       "      <td>11</td>\n",
       "      <td>Davis St at Jackson St</td>\n",
       "      <td>37.797280</td>\n",
       "      <td>-122.398436</td>\n",
       "      <td>323</td>\n",
       "      <td>Broadway at Kearny</td>\n",
       "      <td>37.798014</td>\n",
       "      <td>-122.405950</td>\n",
       "      <td>2173</td>\n",
       "      <td>Customer</td>\n",
       "      <td>1995.0</td>\n",
       "      <td>Male</td>\n",
       "      <td>No</td>\n",
       "    </tr>\n",
       "    <tr>\n",
       "      <th>94794</th>\n",
       "      <td>638</td>\n",
       "      <td>2018-01-01 00:23:01.9500</td>\n",
       "      <td>2018-01-01 00:33:40.4940</td>\n",
       "      <td>15</td>\n",
       "      <td>San Francisco Ferry Building (Harry Bridges Pl...</td>\n",
       "      <td>37.795392</td>\n",
       "      <td>-122.394203</td>\n",
       "      <td>22</td>\n",
       "      <td>Howard St at Beale St</td>\n",
       "      <td>37.789756</td>\n",
       "      <td>-122.394643</td>\n",
       "      <td>1746</td>\n",
       "      <td>Customer</td>\n",
       "      <td>NaN</td>\n",
       "      <td>NaN</td>\n",
       "      <td>No</td>\n",
       "    </tr>\n",
       "    <tr>\n",
       "      <th>94795</th>\n",
       "      <td>627</td>\n",
       "      <td>2018-01-01 00:23:04.3280</td>\n",
       "      <td>2018-01-01 00:33:32.3080</td>\n",
       "      <td>15</td>\n",
       "      <td>San Francisco Ferry Building (Harry Bridges Pl...</td>\n",
       "      <td>37.795392</td>\n",
       "      <td>-122.394203</td>\n",
       "      <td>22</td>\n",
       "      <td>Howard St at Beale St</td>\n",
       "      <td>37.789756</td>\n",
       "      <td>-122.394643</td>\n",
       "      <td>2454</td>\n",
       "      <td>Customer</td>\n",
       "      <td>NaN</td>\n",
       "      <td>NaN</td>\n",
       "      <td>No</td>\n",
       "    </tr>\n",
       "    <tr>\n",
       "      <th>94796</th>\n",
       "      <td>752</td>\n",
       "      <td>2018-01-01 00:19:13.7100</td>\n",
       "      <td>2018-01-01 00:31:46.3440</td>\n",
       "      <td>23</td>\n",
       "      <td>The Embarcadero at Steuart St</td>\n",
       "      <td>37.791464</td>\n",
       "      <td>-122.391034</td>\n",
       "      <td>66</td>\n",
       "      <td>3rd St at Townsend St</td>\n",
       "      <td>37.778742</td>\n",
       "      <td>-122.392741</td>\n",
       "      <td>1019</td>\n",
       "      <td>Customer</td>\n",
       "      <td>NaN</td>\n",
       "      <td>NaN</td>\n",
       "      <td>No</td>\n",
       "    </tr>\n",
       "    <tr>\n",
       "      <th>94797</th>\n",
       "      <td>695</td>\n",
       "      <td>2018-01-01 00:19:58.7610</td>\n",
       "      <td>2018-01-01 00:31:33.8320</td>\n",
       "      <td>23</td>\n",
       "      <td>The Embarcadero at Steuart St</td>\n",
       "      <td>37.791464</td>\n",
       "      <td>-122.391034</td>\n",
       "      <td>66</td>\n",
       "      <td>3rd St at Townsend St</td>\n",
       "      <td>37.778742</td>\n",
       "      <td>-122.392741</td>\n",
       "      <td>3671</td>\n",
       "      <td>Customer</td>\n",
       "      <td>NaN</td>\n",
       "      <td>NaN</td>\n",
       "      <td>No</td>\n",
       "    </tr>\n",
       "    <tr>\n",
       "      <th>94798</th>\n",
       "      <td>600</td>\n",
       "      <td>2018-01-01 00:19:48.7610</td>\n",
       "      <td>2018-01-01 00:29:49.0740</td>\n",
       "      <td>17</td>\n",
       "      <td>Embarcadero BART Station (Beale St at Market St)</td>\n",
       "      <td>37.792251</td>\n",
       "      <td>-122.397086</td>\n",
       "      <td>19</td>\n",
       "      <td>Post St at Kearny St</td>\n",
       "      <td>37.788975</td>\n",
       "      <td>-122.403452</td>\n",
       "      <td>603</td>\n",
       "      <td>Customer</td>\n",
       "      <td>NaN</td>\n",
       "      <td>NaN</td>\n",
       "      <td>No</td>\n",
       "    </tr>\n",
       "    <tr>\n",
       "      <th>94799</th>\n",
       "      <td>1151</td>\n",
       "      <td>2018-01-01 00:09:31.7450</td>\n",
       "      <td>2018-01-01 00:28:43.1590</td>\n",
       "      <td>97</td>\n",
       "      <td>14th St at Mission St</td>\n",
       "      <td>37.768265</td>\n",
       "      <td>-122.420110</td>\n",
       "      <td>125</td>\n",
       "      <td>20th St at Bryant St</td>\n",
       "      <td>37.759200</td>\n",
       "      <td>-122.409851</td>\n",
       "      <td>3455</td>\n",
       "      <td>Subscriber</td>\n",
       "      <td>1992.0</td>\n",
       "      <td>Male</td>\n",
       "      <td>No</td>\n",
       "    </tr>\n",
       "    <tr>\n",
       "      <th>94800</th>\n",
       "      <td>714</td>\n",
       "      <td>2018-01-01 00:07:52.9430</td>\n",
       "      <td>2018-01-01 00:19:47.0750</td>\n",
       "      <td>74</td>\n",
       "      <td>Laguna St at Hayes St</td>\n",
       "      <td>37.776435</td>\n",
       "      <td>-122.426244</td>\n",
       "      <td>70</td>\n",
       "      <td>Central Ave at Fell St</td>\n",
       "      <td>37.773311</td>\n",
       "      <td>-122.444293</td>\n",
       "      <td>2423</td>\n",
       "      <td>Subscriber</td>\n",
       "      <td>1986.0</td>\n",
       "      <td>Male</td>\n",
       "      <td>No</td>\n",
       "    </tr>\n",
       "    <tr>\n",
       "      <th>94801</th>\n",
       "      <td>145</td>\n",
       "      <td>2018-01-01 00:07:41.0400</td>\n",
       "      <td>2018-01-01 00:10:06.2410</td>\n",
       "      <td>316</td>\n",
       "      <td>San Salvador St at 1st St</td>\n",
       "      <td>37.330165</td>\n",
       "      <td>-121.885831</td>\n",
       "      <td>311</td>\n",
       "      <td>Paseo De San Antonio at 2nd St</td>\n",
       "      <td>37.333798</td>\n",
       "      <td>-121.886943</td>\n",
       "      <td>2473</td>\n",
       "      <td>Subscriber</td>\n",
       "      <td>1957.0</td>\n",
       "      <td>Male</td>\n",
       "      <td>No</td>\n",
       "    </tr>\n",
       "  </tbody>\n",
       "</table>\n",
       "<p>94802 rows × 16 columns</p>\n",
       "</div>"
      ],
      "text/plain": [
       "       duration_sec                start_time                  end_time  \\\n",
       "0             75284  2018-01-31 22:52:35.2390  2018-02-01 19:47:19.8240   \n",
       "1             85422  2018-01-31 16:13:34.3510  2018-02-01 15:57:17.3100   \n",
       "2             71576  2018-01-31 14:23:55.8890  2018-02-01 10:16:52.1160   \n",
       "3             61076  2018-01-31 14:53:23.5620  2018-02-01 07:51:20.5000   \n",
       "4             39966  2018-01-31 19:52:24.6670  2018-02-01 06:58:31.0530   \n",
       "5              6477  2018-01-31 22:58:44.8670  2018-02-01 00:46:41.9080   \n",
       "6               453  2018-01-31 23:53:53.6320  2018-02-01 00:01:26.8050   \n",
       "7               180  2018-01-31 23:52:09.9030  2018-01-31 23:55:10.8070   \n",
       "8               996  2018-01-31 23:34:56.0040  2018-01-31 23:51:32.6740   \n",
       "9               825  2018-01-31 23:34:14.0270  2018-01-31 23:47:59.8090   \n",
       "10             1316  2018-01-31 23:24:00.4160  2018-01-31 23:45:56.8240   \n",
       "11              432  2018-01-31 23:34:26.4840  2018-01-31 23:41:39.2970   \n",
       "12              601  2018-01-31 23:29:46.8320  2018-01-31 23:39:48.0000   \n",
       "13              887  2018-01-31 23:24:16.3570  2018-01-31 23:39:04.1230   \n",
       "14              210  2018-01-31 23:33:03.0460  2018-01-31 23:36:33.7040   \n",
       "15              188  2018-01-31 23:30:58.1360  2018-01-31 23:34:06.3910   \n",
       "16              808  2018-01-31 23:19:58.6030  2018-01-31 23:33:27.5310   \n",
       "17              378  2018-01-31 23:23:23.0680  2018-01-31 23:29:42.0440   \n",
       "18              350  2018-01-31 23:13:45.5290  2018-01-31 23:19:36.2650   \n",
       "19              686  2018-01-31 23:07:15.3130  2018-01-31 23:18:41.5580   \n",
       "20              450  2018-01-31 23:07:13.0630  2018-01-31 23:14:43.8140   \n",
       "21              294  2018-01-31 23:08:12.0000  2018-01-31 23:13:06.6360   \n",
       "22              150  2018-01-31 23:10:09.5860  2018-01-31 23:12:40.3330   \n",
       "23              462  2018-01-31 23:03:48.9400  2018-01-31 23:11:31.0290   \n",
       "24              379  2018-01-31 23:04:27.7010  2018-01-31 23:10:46.9760   \n",
       "25              880  2018-01-31 22:53:41.3020  2018-01-31 23:08:21.4430   \n",
       "26             1210  2018-01-31 22:45:37.1250  2018-01-31 23:05:47.5760   \n",
       "27              259  2018-01-31 23:01:12.7920  2018-01-31 23:05:32.1570   \n",
       "28              592  2018-01-31 22:53:27.7790  2018-01-31 23:03:20.2900   \n",
       "29             1059  2018-01-31 22:45:16.5700  2018-01-31 23:02:56.2850   \n",
       "...             ...                       ...                       ...   \n",
       "94772          1088  2018-01-01 00:40:34.5410  2018-01-01 00:58:42.7160   \n",
       "94773          2284  2018-01-01 00:20:29.7820  2018-01-01 00:58:34.0220   \n",
       "94774          1294  2018-01-01 00:36:00.0300  2018-01-01 00:57:34.8870   \n",
       "94775          1144  2018-01-01 00:38:26.1560  2018-01-01 00:57:30.6940   \n",
       "94776           277  2018-01-01 00:50:11.6760  2018-01-01 00:54:49.5630   \n",
       "94777           293  2018-01-01 00:47:06.5180  2018-01-01 00:52:00.4500   \n",
       "94778           270  2018-01-01 00:47:22.4370  2018-01-01 00:51:52.8360   \n",
       "94779          1699  2018-01-01 00:23:25.8890  2018-01-01 00:51:45.8490   \n",
       "94780          1942  2018-01-01 00:19:19.6540  2018-01-01 00:51:42.1200   \n",
       "94781          1928  2018-01-01 00:19:33.3150  2018-01-01 00:51:41.3280   \n",
       "94782          1928  2018-01-01 00:19:21.5860  2018-01-01 00:51:29.6840   \n",
       "94783          1866  2018-01-01 00:20:21.6800  2018-01-01 00:51:28.0690   \n",
       "94784          1352  2018-01-01 00:28:16.1280  2018-01-01 00:50:48.2700   \n",
       "94785           527  2018-01-01 00:41:11.2310  2018-01-01 00:49:58.9970   \n",
       "94786           516  2018-01-01 00:41:11.4350  2018-01-01 00:49:47.8650   \n",
       "94787           211  2018-01-01 00:42:55.1300  2018-01-01 00:46:26.7540   \n",
       "94788          1177  2018-01-01 00:21:31.4350  2018-01-01 00:41:08.4570   \n",
       "94789          1043  2018-01-01 00:23:39.1320  2018-01-01 00:41:02.4170   \n",
       "94790          1178  2018-01-01 00:21:23.4470  2018-01-01 00:41:01.4580   \n",
       "94791          1451  2018-01-01 00:15:30.5200  2018-01-01 00:39:42.4910   \n",
       "94792          1099  2018-01-01 00:20:47.3600  2018-01-01 00:39:07.1620   \n",
       "94793          1359  2018-01-01 00:14:37.1870  2018-01-01 00:37:16.4450   \n",
       "94794           638  2018-01-01 00:23:01.9500  2018-01-01 00:33:40.4940   \n",
       "94795           627  2018-01-01 00:23:04.3280  2018-01-01 00:33:32.3080   \n",
       "94796           752  2018-01-01 00:19:13.7100  2018-01-01 00:31:46.3440   \n",
       "94797           695  2018-01-01 00:19:58.7610  2018-01-01 00:31:33.8320   \n",
       "94798           600  2018-01-01 00:19:48.7610  2018-01-01 00:29:49.0740   \n",
       "94799          1151  2018-01-01 00:09:31.7450  2018-01-01 00:28:43.1590   \n",
       "94800           714  2018-01-01 00:07:52.9430  2018-01-01 00:19:47.0750   \n",
       "94801           145  2018-01-01 00:07:41.0400  2018-01-01 00:10:06.2410   \n",
       "\n",
       "       start_station_id                                 start_station_name  \\\n",
       "0                   120                               Mission Dolores Park   \n",
       "1                    15  San Francisco Ferry Building (Harry Bridges Pl...   \n",
       "2                   304                               Jackson St at 5th St   \n",
       "3                    75                           Market St at Franklin St   \n",
       "4                    74                              Laguna St at Hayes St   \n",
       "5                   236                                Market St at 8th St   \n",
       "6                   110   17th & Folsom Street Park (17th St at Folsom St)   \n",
       "7                    81                                 Berry St at 4th St   \n",
       "8                   134                             Valencia St at 24th St   \n",
       "9                   305                                        Ryland Park   \n",
       "10                   98                             Valencia St at 16th St   \n",
       "11                   89                         Division St at Potrero Ave   \n",
       "12                  223                     16th St Mission BART Station 2   \n",
       "13                  308                                   San Pedro Square   \n",
       "14                    7                                Frank H Ogawa Plaza   \n",
       "15                   98                             Valencia St at 16th St   \n",
       "16                   67  San Francisco Caltrain Station 2  (Townsend St...   \n",
       "17                   80                              Townsend St at 5th St   \n",
       "18                  247                          Fulton St at Bancroft Way   \n",
       "19                  312                           San Jose Diridon Station   \n",
       "20                  241                                 Ashby BART Station   \n",
       "21                  239                      Bancroft Way at Telegraph Ave   \n",
       "22                  182                           19th Street BART Station   \n",
       "23                  119                                  18th St at Noe St   \n",
       "24                  176                             MacArthur BART Station   \n",
       "25                  123                               Folsom St at 19th St   \n",
       "26                  285                         Webster St at O'Farrell St   \n",
       "27                  239                      Bancroft Way at Telegraph Ave   \n",
       "28                  202                            Washington St at 8th St   \n",
       "29                  141                     Valencia St at Cesar Chavez St   \n",
       "...                 ...                                                ...   \n",
       "94772                25                                Howard St at 2nd St   \n",
       "94773                15  San Francisco Ferry Building (Harry Bridges Pl...   \n",
       "94774                22                              Howard St at Beale St   \n",
       "94775                22                              Howard St at Beale St   \n",
       "94776               198                                          Snow Park   \n",
       "94777               179                           Telegraph Ave at 27th St   \n",
       "94778               179                           Telegraph Ave at 27th St   \n",
       "94779                23                      The Embarcadero at Steuart St   \n",
       "94780                23                      The Embarcadero at Steuart St   \n",
       "94781                23                      The Embarcadero at Steuart St   \n",
       "94782                23                      The Embarcadero at Steuart St   \n",
       "94783                23                      The Embarcadero at Steuart St   \n",
       "94784                97                              14th St at Mission St   \n",
       "94785                79                               7th St at Brannan St   \n",
       "94786                79                               7th St at Brannan St   \n",
       "94787               215                           34th St at Telegraph Ave   \n",
       "94788                 8                      The Embarcadero at Vallejo St   \n",
       "94789                 8                      The Embarcadero at Vallejo St   \n",
       "94790                 8                      The Embarcadero at Vallejo St   \n",
       "94791                55                             Webster St at Grove St   \n",
       "94792                16                            Steuart St at Market St   \n",
       "94793                11                             Davis St at Jackson St   \n",
       "94794                15  San Francisco Ferry Building (Harry Bridges Pl...   \n",
       "94795                15  San Francisco Ferry Building (Harry Bridges Pl...   \n",
       "94796                23                      The Embarcadero at Steuart St   \n",
       "94797                23                      The Embarcadero at Steuart St   \n",
       "94798                17   Embarcadero BART Station (Beale St at Market St)   \n",
       "94799                97                              14th St at Mission St   \n",
       "94800                74                              Laguna St at Hayes St   \n",
       "94801               316                          San Salvador St at 1st St   \n",
       "\n",
       "       start_station_latitude  start_station_longitude  end_station_id  \\\n",
       "0                   37.761420              -122.426435             285   \n",
       "1                   37.795392              -122.394203              15   \n",
       "2                   37.348759              -121.894798             296   \n",
       "3                   37.773793              -122.421239              47   \n",
       "4                   37.776435              -122.426244              19   \n",
       "5                   37.803686              -122.282497             160   \n",
       "6                   37.763708              -122.415204             134   \n",
       "7                   37.775880              -122.393170              93   \n",
       "8                   37.752428              -122.420628               4   \n",
       "9                   37.342725              -121.895617             317   \n",
       "10                  37.765052              -122.421866               4   \n",
       "11                  37.769218              -122.407646              43   \n",
       "12                  37.764765              -122.420091              86   \n",
       "13                  37.336802              -121.894090             297   \n",
       "14                  37.804562              -122.271738             186   \n",
       "15                  37.765052              -122.421866              76   \n",
       "16                  37.776639              -122.395526              98   \n",
       "17                  37.775306              -122.397380              78   \n",
       "18                  37.867789              -122.265896             274   \n",
       "19                  37.329732              -121.901782             317   \n",
       "20                  37.852477              -122.270213             157   \n",
       "21                  37.868813              -122.258764             244   \n",
       "22                  37.809013              -122.268247             183   \n",
       "23                  37.761047              -122.432642             134   \n",
       "24                  37.828410              -122.266315             189   \n",
       "25                  37.760594              -122.414817             145   \n",
       "26                  37.783521              -122.431158             133   \n",
       "27                  37.868813              -122.258764             266   \n",
       "28                  37.800754              -122.274894             195   \n",
       "29                  37.747998              -122.420219              79   \n",
       "...                       ...                      ...             ...   \n",
       "94772               37.787522              -122.397405              97   \n",
       "94773               37.795392              -122.394203              17   \n",
       "94774               37.789756              -122.394643             110   \n",
       "94775               37.789756              -122.394643             110   \n",
       "94776               37.807813              -122.264496             195   \n",
       "94777               37.816073              -122.267886             215   \n",
       "94778               37.816073              -122.267886             215   \n",
       "94779               37.791464              -122.391034              19   \n",
       "94780               37.791464              -122.391034              19   \n",
       "94781               37.791464              -122.391034              19   \n",
       "94782               37.791464              -122.391034              19   \n",
       "94783               37.791464              -122.391034              19   \n",
       "94784               37.768265              -122.420110              27   \n",
       "94785               37.773492              -122.403673              44   \n",
       "94786               37.773492              -122.403673              44   \n",
       "94787               37.822547              -122.266318             192   \n",
       "94788               37.799953              -122.398525              17   \n",
       "94789               37.799953              -122.398525              17   \n",
       "94790               37.799953              -122.398525              17   \n",
       "94791               37.777053              -122.429558              29   \n",
       "94792               37.794130              -122.394430              93   \n",
       "94793               37.797280              -122.398436             323   \n",
       "94794               37.795392              -122.394203              22   \n",
       "94795               37.795392              -122.394203              22   \n",
       "94796               37.791464              -122.391034              66   \n",
       "94797               37.791464              -122.391034              66   \n",
       "94798               37.792251              -122.397086              19   \n",
       "94799               37.768265              -122.420110             125   \n",
       "94800               37.776435              -122.426244              70   \n",
       "94801               37.330165              -121.885831             311   \n",
       "\n",
       "                                        end_station_name  \\\n",
       "0                             Webster St at O'Farrell St   \n",
       "1      San Francisco Ferry Building (Harry Bridges Pl...   \n",
       "2                                  5th St at Virginia St   \n",
       "3                                  4th St at Harrison St   \n",
       "4                                   Post St at Kearny St   \n",
       "5                              West Oakland BART Station   \n",
       "6                                 Valencia St at 24th St   \n",
       "7                           4th St at Mission Bay Blvd S   \n",
       "8                            Cyril Magnin St at Ellis St   \n",
       "9                              San Salvador St at 9th St   \n",
       "10                           Cyril Magnin St at Ellis St   \n",
       "11     San Francisco Public Library (Grove St at Hyde...   \n",
       "12                               Market St at Dolores St   \n",
       "13                                 Locust St at Grant St   \n",
       "14                                Lakeside Dr at 14th St   \n",
       "15                            McCoppin St at Valencia St   \n",
       "16                                Valencia St at 16th St   \n",
       "17                                   Folsom St at 9th St   \n",
       "18                               Oregon St at Adeline St   \n",
       "19                             San Salvador St at 9th St   \n",
       "20                                  65th St at Hollis St   \n",
       "21                            Shattuck Ave at Hearst Ave   \n",
       "22                              Telegraph Ave at 19th St   \n",
       "23                                Valencia St at 24th St   \n",
       "24                                   Genoa St at 55th St   \n",
       "25                                  29th St at Church St   \n",
       "26                                Valencia St at 22nd St   \n",
       "27                                Parker St at Fulton St   \n",
       "28                                   Bay Pl at Vernon St   \n",
       "29                                  7th St at Brannan St   \n",
       "...                                                  ...   \n",
       "94772                              14th St at Mission St   \n",
       "94773   Embarcadero BART Station (Beale St at Market St)   \n",
       "94774   17th & Folsom Street Park (17th St at Folsom St)   \n",
       "94775   17th & Folsom Street Park (17th St at Folsom St)   \n",
       "94776                                Bay Pl at Vernon St   \n",
       "94777                           34th St at Telegraph Ave   \n",
       "94778                           34th St at Telegraph Ave   \n",
       "94779                               Post St at Kearny St   \n",
       "94780                               Post St at Kearny St   \n",
       "94781                               Post St at Kearny St   \n",
       "94782                               Post St at Kearny St   \n",
       "94783                               Post St at Kearny St   \n",
       "94784                            Beale St at Harrison St   \n",
       "94785  Civic Center/UN Plaza BART Station (Market St ...   \n",
       "94786  Civic Center/UN Plaza BART Station (Market St ...   \n",
       "94787                                 37th St at West St   \n",
       "94788   Embarcadero BART Station (Beale St at Market St)   \n",
       "94789   Embarcadero BART Station (Beale St at Market St)   \n",
       "94790   Embarcadero BART Station (Beale St at Market St)   \n",
       "94791                      O'Farrell St at Divisadero St   \n",
       "94792                       4th St at Mission Bay Blvd S   \n",
       "94793                                 Broadway at Kearny   \n",
       "94794                              Howard St at Beale St   \n",
       "94795                              Howard St at Beale St   \n",
       "94796                              3rd St at Townsend St   \n",
       "94797                              3rd St at Townsend St   \n",
       "94798                               Post St at Kearny St   \n",
       "94799                               20th St at Bryant St   \n",
       "94800                             Central Ave at Fell St   \n",
       "94801                     Paseo De San Antonio at 2nd St   \n",
       "\n",
       "       end_station_latitude  end_station_longitude  bike_id   user_type  \\\n",
       "0                 37.783521            -122.431158     2765  Subscriber   \n",
       "1                 37.795392            -122.394203     2815    Customer   \n",
       "2                 37.325998            -121.877120     3039    Customer   \n",
       "3                 37.780955            -122.399749      321    Customer   \n",
       "4                 37.788975            -122.403452      617  Subscriber   \n",
       "5                 37.805318            -122.294837     1306    Customer   \n",
       "6                 37.752428            -122.420628     3571  Subscriber   \n",
       "7                 37.770407            -122.391198     1403  Subscriber   \n",
       "8                 37.785881            -122.408915     3675  Subscriber   \n",
       "9                 37.333955            -121.877349     1453  Subscriber   \n",
       "10                37.785881            -122.408915     1278    Customer   \n",
       "11                37.778768            -122.415929     2928  Subscriber   \n",
       "12                37.769305            -122.426826     3016  Subscriber   \n",
       "13                37.322980            -121.887931       55  Subscriber   \n",
       "14                37.801319            -122.262642     2602  Subscriber   \n",
       "15                37.771662            -122.422423     2556  Subscriber   \n",
       "16                37.765052            -122.421866     3041  Subscriber   \n",
       "17                37.773717            -122.411647      546  Subscriber   \n",
       "18                37.857567            -122.267558      431  Subscriber   \n",
       "19                37.333955            -121.877349     1886  Subscriber   \n",
       "20                37.846784            -122.291376     3583  Subscriber   \n",
       "21                37.873792            -122.268618     2144  Subscriber   \n",
       "22                37.808702            -122.269927     3468  Subscriber   \n",
       "23                37.752428            -122.420628     1432  Subscriber   \n",
       "24                37.839649            -122.271756      997  Subscriber   \n",
       "25                37.743684            -122.426806     3725  Subscriber   \n",
       "26                37.755213            -122.420975     1059  Subscriber   \n",
       "27                37.862464            -122.264791     1208  Subscriber   \n",
       "28                37.812314            -122.260779     1834    Customer   \n",
       "29                37.773492            -122.403673     1248  Subscriber   \n",
       "...                     ...                    ...      ...         ...   \n",
       "94772             37.768265            -122.420110     3242    Customer   \n",
       "94773             37.792251            -122.397086     2941    Customer   \n",
       "94774             37.763708            -122.415204     2085    Customer   \n",
       "94775             37.763708            -122.415204     1290    Customer   \n",
       "94776             37.812314            -122.260779      890  Subscriber   \n",
       "94777             37.822547            -122.266318     2236    Customer   \n",
       "94778             37.822547            -122.266318     1555    Customer   \n",
       "94779             37.788975            -122.403452     3375    Customer   \n",
       "94780             37.788975            -122.403452     1112    Customer   \n",
       "94781             37.788975            -122.403452     3496    Customer   \n",
       "94782             37.788975            -122.403452     2522    Customer   \n",
       "94783             37.788975            -122.403452     2721    Customer   \n",
       "94784             37.788059            -122.391865     3562  Subscriber   \n",
       "94785             37.781074            -122.411738     3386  Subscriber   \n",
       "94786             37.781074            -122.411738     1793  Subscriber   \n",
       "94787             37.826696            -122.271796     2278  Subscriber   \n",
       "94788             37.792251            -122.397086      283    Customer   \n",
       "94789             37.792251            -122.397086     1979    Customer   \n",
       "94790             37.792251            -122.397086     1031    Customer   \n",
       "94791             37.782405            -122.439446     1128    Customer   \n",
       "94792             37.770407            -122.391198     2670    Customer   \n",
       "94793             37.798014            -122.405950     2173    Customer   \n",
       "94794             37.789756            -122.394643     1746    Customer   \n",
       "94795             37.789756            -122.394643     2454    Customer   \n",
       "94796             37.778742            -122.392741     1019    Customer   \n",
       "94797             37.778742            -122.392741     3671    Customer   \n",
       "94798             37.788975            -122.403452      603    Customer   \n",
       "94799             37.759200            -122.409851     3455  Subscriber   \n",
       "94800             37.773311            -122.444293     2423  Subscriber   \n",
       "94801             37.333798            -121.886943     2473  Subscriber   \n",
       "\n",
       "       member_birth_year member_gender bike_share_for_all_trip  \n",
       "0                 1986.0          Male                      No  \n",
       "1                    NaN           NaN                      No  \n",
       "2                 1996.0          Male                      No  \n",
       "3                    NaN           NaN                      No  \n",
       "4                 1991.0          Male                      No  \n",
       "5                    NaN           NaN                      No  \n",
       "6                 1988.0          Male                      No  \n",
       "7                 1980.0          Male                      No  \n",
       "8                 1987.0          Male                     Yes  \n",
       "9                 1994.0        Female                     Yes  \n",
       "10                   NaN           NaN                      No  \n",
       "11                1993.0          Male                      No  \n",
       "12                1957.0          Male                      No  \n",
       "13                1976.0        Female                     Yes  \n",
       "14                1976.0          Male                      No  \n",
       "15                1964.0        Female                      No  \n",
       "16                1976.0          Male                     Yes  \n",
       "17                1995.0        Female                      No  \n",
       "18                   NaN           NaN                      No  \n",
       "19                1997.0        Female                      No  \n",
       "20                1994.0          Male                      No  \n",
       "21                1983.0          Male                      No  \n",
       "22                1945.0          Male                     Yes  \n",
       "23                1971.0          Male                     Yes  \n",
       "24                1975.0          Male                      No  \n",
       "25                1986.0          Male                      No  \n",
       "26                1991.0          Male                      No  \n",
       "27                1994.0          Male                      No  \n",
       "28                1978.0          Male                      No  \n",
       "29                1988.0          Male                      No  \n",
       "...                  ...           ...                     ...  \n",
       "94772             1992.0          Male                      No  \n",
       "94773                NaN           NaN                      No  \n",
       "94774                NaN           NaN                      No  \n",
       "94775                NaN           NaN                      No  \n",
       "94776             1975.0        Female                      No  \n",
       "94777                NaN           NaN                      No  \n",
       "94778                NaN           NaN                      No  \n",
       "94779                NaN           NaN                      No  \n",
       "94780                NaN           NaN                      No  \n",
       "94781                NaN           NaN                      No  \n",
       "94782                NaN           NaN                      No  \n",
       "94783                NaN           NaN                      No  \n",
       "94784             1980.0          Male                      No  \n",
       "94785             1985.0        Female                      No  \n",
       "94786             1981.0        Female                      No  \n",
       "94787             1980.0          Male                      No  \n",
       "94788                NaN           NaN                      No  \n",
       "94789                NaN           NaN                      No  \n",
       "94790                NaN           NaN                      No  \n",
       "94791                NaN           NaN                      No  \n",
       "94792             1984.0        Female                      No  \n",
       "94793             1995.0          Male                      No  \n",
       "94794                NaN           NaN                      No  \n",
       "94795                NaN           NaN                      No  \n",
       "94796                NaN           NaN                      No  \n",
       "94797                NaN           NaN                      No  \n",
       "94798                NaN           NaN                      No  \n",
       "94799             1992.0          Male                      No  \n",
       "94800             1986.0          Male                      No  \n",
       "94801             1957.0          Male                      No  \n",
       "\n",
       "[94802 rows x 16 columns]"
      ]
     },
     "execution_count": 3,
     "metadata": {},
     "output_type": "execute_result"
    }
   ],
   "source": [
    "df"
   ]
  },
  {
   "cell_type": "markdown",
   "metadata": {
    "slideshow": {
     "slide_type": "skip"
    }
   },
   "source": [
    "#### Assessing"
   ]
  },
  {
   "cell_type": "code",
   "execution_count": 4,
   "metadata": {
    "slideshow": {
     "slide_type": "skip"
    }
   },
   "outputs": [
    {
     "data": {
      "text/html": [
       "<div>\n",
       "<style scoped>\n",
       "    .dataframe tbody tr th:only-of-type {\n",
       "        vertical-align: middle;\n",
       "    }\n",
       "\n",
       "    .dataframe tbody tr th {\n",
       "        vertical-align: top;\n",
       "    }\n",
       "\n",
       "    .dataframe thead th {\n",
       "        text-align: right;\n",
       "    }\n",
       "</style>\n",
       "<table border=\"1\" class=\"dataframe\">\n",
       "  <thead>\n",
       "    <tr style=\"text-align: right;\">\n",
       "      <th></th>\n",
       "      <th>duration_sec</th>\n",
       "      <th>start_time</th>\n",
       "      <th>end_time</th>\n",
       "      <th>start_station_id</th>\n",
       "      <th>start_station_name</th>\n",
       "      <th>start_station_latitude</th>\n",
       "      <th>start_station_longitude</th>\n",
       "      <th>end_station_id</th>\n",
       "      <th>end_station_name</th>\n",
       "      <th>end_station_latitude</th>\n",
       "      <th>end_station_longitude</th>\n",
       "      <th>bike_id</th>\n",
       "      <th>user_type</th>\n",
       "      <th>member_birth_year</th>\n",
       "      <th>member_gender</th>\n",
       "      <th>bike_share_for_all_trip</th>\n",
       "    </tr>\n",
       "  </thead>\n",
       "  <tbody>\n",
       "    <tr>\n",
       "      <th>0</th>\n",
       "      <td>75284</td>\n",
       "      <td>2018-01-31 22:52:35.2390</td>\n",
       "      <td>2018-02-01 19:47:19.8240</td>\n",
       "      <td>120</td>\n",
       "      <td>Mission Dolores Park</td>\n",
       "      <td>37.761420</td>\n",
       "      <td>-122.426435</td>\n",
       "      <td>285</td>\n",
       "      <td>Webster St at O'Farrell St</td>\n",
       "      <td>37.783521</td>\n",
       "      <td>-122.431158</td>\n",
       "      <td>2765</td>\n",
       "      <td>Subscriber</td>\n",
       "      <td>1986.0</td>\n",
       "      <td>Male</td>\n",
       "      <td>No</td>\n",
       "    </tr>\n",
       "    <tr>\n",
       "      <th>1</th>\n",
       "      <td>85422</td>\n",
       "      <td>2018-01-31 16:13:34.3510</td>\n",
       "      <td>2018-02-01 15:57:17.3100</td>\n",
       "      <td>15</td>\n",
       "      <td>San Francisco Ferry Building (Harry Bridges Pl...</td>\n",
       "      <td>37.795392</td>\n",
       "      <td>-122.394203</td>\n",
       "      <td>15</td>\n",
       "      <td>San Francisco Ferry Building (Harry Bridges Pl...</td>\n",
       "      <td>37.795392</td>\n",
       "      <td>-122.394203</td>\n",
       "      <td>2815</td>\n",
       "      <td>Customer</td>\n",
       "      <td>NaN</td>\n",
       "      <td>NaN</td>\n",
       "      <td>No</td>\n",
       "    </tr>\n",
       "    <tr>\n",
       "      <th>2</th>\n",
       "      <td>71576</td>\n",
       "      <td>2018-01-31 14:23:55.8890</td>\n",
       "      <td>2018-02-01 10:16:52.1160</td>\n",
       "      <td>304</td>\n",
       "      <td>Jackson St at 5th St</td>\n",
       "      <td>37.348759</td>\n",
       "      <td>-121.894798</td>\n",
       "      <td>296</td>\n",
       "      <td>5th St at Virginia St</td>\n",
       "      <td>37.325998</td>\n",
       "      <td>-121.877120</td>\n",
       "      <td>3039</td>\n",
       "      <td>Customer</td>\n",
       "      <td>1996.0</td>\n",
       "      <td>Male</td>\n",
       "      <td>No</td>\n",
       "    </tr>\n",
       "    <tr>\n",
       "      <th>3</th>\n",
       "      <td>61076</td>\n",
       "      <td>2018-01-31 14:53:23.5620</td>\n",
       "      <td>2018-02-01 07:51:20.5000</td>\n",
       "      <td>75</td>\n",
       "      <td>Market St at Franklin St</td>\n",
       "      <td>37.773793</td>\n",
       "      <td>-122.421239</td>\n",
       "      <td>47</td>\n",
       "      <td>4th St at Harrison St</td>\n",
       "      <td>37.780955</td>\n",
       "      <td>-122.399749</td>\n",
       "      <td>321</td>\n",
       "      <td>Customer</td>\n",
       "      <td>NaN</td>\n",
       "      <td>NaN</td>\n",
       "      <td>No</td>\n",
       "    </tr>\n",
       "    <tr>\n",
       "      <th>4</th>\n",
       "      <td>39966</td>\n",
       "      <td>2018-01-31 19:52:24.6670</td>\n",
       "      <td>2018-02-01 06:58:31.0530</td>\n",
       "      <td>74</td>\n",
       "      <td>Laguna St at Hayes St</td>\n",
       "      <td>37.776435</td>\n",
       "      <td>-122.426244</td>\n",
       "      <td>19</td>\n",
       "      <td>Post St at Kearny St</td>\n",
       "      <td>37.788975</td>\n",
       "      <td>-122.403452</td>\n",
       "      <td>617</td>\n",
       "      <td>Subscriber</td>\n",
       "      <td>1991.0</td>\n",
       "      <td>Male</td>\n",
       "      <td>No</td>\n",
       "    </tr>\n",
       "  </tbody>\n",
       "</table>\n",
       "</div>"
      ],
      "text/plain": [
       "   duration_sec                start_time                  end_time  \\\n",
       "0         75284  2018-01-31 22:52:35.2390  2018-02-01 19:47:19.8240   \n",
       "1         85422  2018-01-31 16:13:34.3510  2018-02-01 15:57:17.3100   \n",
       "2         71576  2018-01-31 14:23:55.8890  2018-02-01 10:16:52.1160   \n",
       "3         61076  2018-01-31 14:53:23.5620  2018-02-01 07:51:20.5000   \n",
       "4         39966  2018-01-31 19:52:24.6670  2018-02-01 06:58:31.0530   \n",
       "\n",
       "   start_station_id                                 start_station_name  \\\n",
       "0               120                               Mission Dolores Park   \n",
       "1                15  San Francisco Ferry Building (Harry Bridges Pl...   \n",
       "2               304                               Jackson St at 5th St   \n",
       "3                75                           Market St at Franklin St   \n",
       "4                74                              Laguna St at Hayes St   \n",
       "\n",
       "   start_station_latitude  start_station_longitude  end_station_id  \\\n",
       "0               37.761420              -122.426435             285   \n",
       "1               37.795392              -122.394203              15   \n",
       "2               37.348759              -121.894798             296   \n",
       "3               37.773793              -122.421239              47   \n",
       "4               37.776435              -122.426244              19   \n",
       "\n",
       "                                    end_station_name  end_station_latitude  \\\n",
       "0                         Webster St at O'Farrell St             37.783521   \n",
       "1  San Francisco Ferry Building (Harry Bridges Pl...             37.795392   \n",
       "2                              5th St at Virginia St             37.325998   \n",
       "3                              4th St at Harrison St             37.780955   \n",
       "4                               Post St at Kearny St             37.788975   \n",
       "\n",
       "   end_station_longitude  bike_id   user_type  member_birth_year  \\\n",
       "0            -122.431158     2765  Subscriber             1986.0   \n",
       "1            -122.394203     2815    Customer                NaN   \n",
       "2            -121.877120     3039    Customer             1996.0   \n",
       "3            -122.399749      321    Customer                NaN   \n",
       "4            -122.403452      617  Subscriber             1991.0   \n",
       "\n",
       "  member_gender bike_share_for_all_trip  \n",
       "0          Male                      No  \n",
       "1           NaN                      No  \n",
       "2          Male                      No  \n",
       "3           NaN                      No  \n",
       "4          Male                      No  "
      ]
     },
     "execution_count": 4,
     "metadata": {},
     "output_type": "execute_result"
    }
   ],
   "source": [
    "df.head()"
   ]
  },
  {
   "cell_type": "code",
   "execution_count": 5,
   "metadata": {
    "scrolled": true,
    "slideshow": {
     "slide_type": "skip"
    }
   },
   "outputs": [
    {
     "name": "stdout",
     "output_type": "stream",
     "text": [
      "<class 'pandas.core.frame.DataFrame'>\n",
      "RangeIndex: 94802 entries, 0 to 94801\n",
      "Data columns (total 16 columns):\n",
      "duration_sec               94802 non-null int64\n",
      "start_time                 94802 non-null object\n",
      "end_time                   94802 non-null object\n",
      "start_station_id           94802 non-null int64\n",
      "start_station_name         94802 non-null object\n",
      "start_station_latitude     94802 non-null float64\n",
      "start_station_longitude    94802 non-null float64\n",
      "end_station_id             94802 non-null int64\n",
      "end_station_name           94802 non-null object\n",
      "end_station_latitude       94802 non-null float64\n",
      "end_station_longitude      94802 non-null float64\n",
      "bike_id                    94802 non-null int64\n",
      "user_type                  94802 non-null object\n",
      "member_birth_year          86963 non-null float64\n",
      "member_gender              87001 non-null object\n",
      "bike_share_for_all_trip    94802 non-null object\n",
      "dtypes: float64(5), int64(4), object(7)\n",
      "memory usage: 11.6+ MB\n"
     ]
    }
   ],
   "source": [
    "df.info()"
   ]
  },
  {
   "cell_type": "code",
   "execution_count": 6,
   "metadata": {
    "scrolled": false,
    "slideshow": {
     "slide_type": "skip"
    }
   },
   "outputs": [
    {
     "data": {
      "text/plain": [
       "duration_sec                  0\n",
       "start_time                    0\n",
       "end_time                      0\n",
       "start_station_id              0\n",
       "start_station_name            0\n",
       "start_station_latitude        0\n",
       "start_station_longitude       0\n",
       "end_station_id                0\n",
       "end_station_name              0\n",
       "end_station_latitude          0\n",
       "end_station_longitude         0\n",
       "bike_id                       0\n",
       "user_type                     0\n",
       "member_birth_year          7839\n",
       "member_gender              7801\n",
       "bike_share_for_all_trip       0\n",
       "dtype: int64"
      ]
     },
     "execution_count": 6,
     "metadata": {},
     "output_type": "execute_result"
    }
   ],
   "source": [
    "df.isnull().sum()"
   ]
  },
  {
   "cell_type": "code",
   "execution_count": 7,
   "metadata": {
    "slideshow": {
     "slide_type": "skip"
    }
   },
   "outputs": [
    {
     "data": {
      "text/plain": [
       "0"
      ]
     },
     "execution_count": 7,
     "metadata": {},
     "output_type": "execute_result"
    }
   ],
   "source": [
    "# checking for any duplication\n",
    "sum(df.duplicated())"
   ]
  },
  {
   "cell_type": "code",
   "execution_count": 8,
   "metadata": {
    "slideshow": {
     "slide_type": "skip"
    }
   },
   "outputs": [
    {
     "data": {
      "text/plain": [
       "(94802, 16)"
      ]
     },
     "execution_count": 8,
     "metadata": {},
     "output_type": "execute_result"
    }
   ],
   "source": [
    "#data structure\n",
    "df.shape"
   ]
  },
  {
   "cell_type": "code",
   "execution_count": 9,
   "metadata": {
    "slideshow": {
     "slide_type": "skip"
    }
   },
   "outputs": [
    {
     "data": {
      "text/html": [
       "<div>\n",
       "<style scoped>\n",
       "    .dataframe tbody tr th:only-of-type {\n",
       "        vertical-align: middle;\n",
       "    }\n",
       "\n",
       "    .dataframe tbody tr th {\n",
       "        vertical-align: top;\n",
       "    }\n",
       "\n",
       "    .dataframe thead th {\n",
       "        text-align: right;\n",
       "    }\n",
       "</style>\n",
       "<table border=\"1\" class=\"dataframe\">\n",
       "  <thead>\n",
       "    <tr style=\"text-align: right;\">\n",
       "      <th></th>\n",
       "      <th>duration_sec</th>\n",
       "      <th>start_time</th>\n",
       "      <th>end_time</th>\n",
       "      <th>start_station_id</th>\n",
       "      <th>start_station_name</th>\n",
       "      <th>start_station_latitude</th>\n",
       "      <th>start_station_longitude</th>\n",
       "      <th>end_station_id</th>\n",
       "      <th>end_station_name</th>\n",
       "      <th>end_station_latitude</th>\n",
       "      <th>end_station_longitude</th>\n",
       "      <th>bike_id</th>\n",
       "      <th>user_type</th>\n",
       "      <th>member_birth_year</th>\n",
       "      <th>member_gender</th>\n",
       "      <th>bike_share_for_all_trip</th>\n",
       "    </tr>\n",
       "  </thead>\n",
       "  <tbody>\n",
       "    <tr>\n",
       "      <th>24191</th>\n",
       "      <td>309</td>\n",
       "      <td>2018-01-25 13:09:36.2870</td>\n",
       "      <td>2018-01-25 13:14:45.4270</td>\n",
       "      <td>15</td>\n",
       "      <td>San Francisco Ferry Building (Harry Bridges Pl...</td>\n",
       "      <td>37.795392</td>\n",
       "      <td>-122.394203</td>\n",
       "      <td>9</td>\n",
       "      <td>Broadway at Battery St</td>\n",
       "      <td>37.798572</td>\n",
       "      <td>-122.400869</td>\n",
       "      <td>2423</td>\n",
       "      <td>Subscriber</td>\n",
       "      <td>1984.0</td>\n",
       "      <td>Male</td>\n",
       "      <td>No</td>\n",
       "    </tr>\n",
       "    <tr>\n",
       "      <th>19944</th>\n",
       "      <td>229</td>\n",
       "      <td>2018-01-26 14:57:00.6570</td>\n",
       "      <td>2018-01-26 15:00:50.5530</td>\n",
       "      <td>22</td>\n",
       "      <td>Howard St at Beale St</td>\n",
       "      <td>37.789756</td>\n",
       "      <td>-122.394643</td>\n",
       "      <td>37</td>\n",
       "      <td>2nd St at Folsom St</td>\n",
       "      <td>37.785000</td>\n",
       "      <td>-122.395936</td>\n",
       "      <td>2307</td>\n",
       "      <td>Subscriber</td>\n",
       "      <td>1972.0</td>\n",
       "      <td>Male</td>\n",
       "      <td>No</td>\n",
       "    </tr>\n",
       "    <tr>\n",
       "      <th>59749</th>\n",
       "      <td>440</td>\n",
       "      <td>2018-01-14 15:35:14.2250</td>\n",
       "      <td>2018-01-14 15:42:34.2880</td>\n",
       "      <td>67</td>\n",
       "      <td>San Francisco Caltrain Station 2  (Townsend St...</td>\n",
       "      <td>37.776639</td>\n",
       "      <td>-122.395526</td>\n",
       "      <td>5</td>\n",
       "      <td>Powell St BART Station (Market St at 5th St)</td>\n",
       "      <td>37.783899</td>\n",
       "      <td>-122.408445</td>\n",
       "      <td>2773</td>\n",
       "      <td>Subscriber</td>\n",
       "      <td>1983.0</td>\n",
       "      <td>Female</td>\n",
       "      <td>No</td>\n",
       "    </tr>\n",
       "    <tr>\n",
       "      <th>75246</th>\n",
       "      <td>406</td>\n",
       "      <td>2018-01-09 17:56:42.4370</td>\n",
       "      <td>2018-01-09 18:03:29.3560</td>\n",
       "      <td>241</td>\n",
       "      <td>Ashby BART Station</td>\n",
       "      <td>37.852477</td>\n",
       "      <td>-122.270213</td>\n",
       "      <td>157</td>\n",
       "      <td>65th St at Hollis St</td>\n",
       "      <td>37.846784</td>\n",
       "      <td>-122.291376</td>\n",
       "      <td>2453</td>\n",
       "      <td>Subscriber</td>\n",
       "      <td>1991.0</td>\n",
       "      <td>Male</td>\n",
       "      <td>Yes</td>\n",
       "    </tr>\n",
       "    <tr>\n",
       "      <th>80585</th>\n",
       "      <td>267</td>\n",
       "      <td>2018-01-06 16:54:34.4300</td>\n",
       "      <td>2018-01-06 16:59:02.3830</td>\n",
       "      <td>76</td>\n",
       "      <td>McCoppin St at Valencia St</td>\n",
       "      <td>37.771662</td>\n",
       "      <td>-122.422423</td>\n",
       "      <td>58</td>\n",
       "      <td>Market St at 10th St</td>\n",
       "      <td>37.776619</td>\n",
       "      <td>-122.417385</td>\n",
       "      <td>2545</td>\n",
       "      <td>Subscriber</td>\n",
       "      <td>1983.0</td>\n",
       "      <td>Male</td>\n",
       "      <td>No</td>\n",
       "    </tr>\n",
       "  </tbody>\n",
       "</table>\n",
       "</div>"
      ],
      "text/plain": [
       "       duration_sec                start_time                  end_time  \\\n",
       "24191           309  2018-01-25 13:09:36.2870  2018-01-25 13:14:45.4270   \n",
       "19944           229  2018-01-26 14:57:00.6570  2018-01-26 15:00:50.5530   \n",
       "59749           440  2018-01-14 15:35:14.2250  2018-01-14 15:42:34.2880   \n",
       "75246           406  2018-01-09 17:56:42.4370  2018-01-09 18:03:29.3560   \n",
       "80585           267  2018-01-06 16:54:34.4300  2018-01-06 16:59:02.3830   \n",
       "\n",
       "       start_station_id                                 start_station_name  \\\n",
       "24191                15  San Francisco Ferry Building (Harry Bridges Pl...   \n",
       "19944                22                              Howard St at Beale St   \n",
       "59749                67  San Francisco Caltrain Station 2  (Townsend St...   \n",
       "75246               241                                 Ashby BART Station   \n",
       "80585                76                         McCoppin St at Valencia St   \n",
       "\n",
       "       start_station_latitude  start_station_longitude  end_station_id  \\\n",
       "24191               37.795392              -122.394203               9   \n",
       "19944               37.789756              -122.394643              37   \n",
       "59749               37.776639              -122.395526               5   \n",
       "75246               37.852477              -122.270213             157   \n",
       "80585               37.771662              -122.422423              58   \n",
       "\n",
       "                                   end_station_name  end_station_latitude  \\\n",
       "24191                        Broadway at Battery St             37.798572   \n",
       "19944                           2nd St at Folsom St             37.785000   \n",
       "59749  Powell St BART Station (Market St at 5th St)             37.783899   \n",
       "75246                          65th St at Hollis St             37.846784   \n",
       "80585                          Market St at 10th St             37.776619   \n",
       "\n",
       "       end_station_longitude  bike_id   user_type  member_birth_year  \\\n",
       "24191            -122.400869     2423  Subscriber             1984.0   \n",
       "19944            -122.395936     2307  Subscriber             1972.0   \n",
       "59749            -122.408445     2773  Subscriber             1983.0   \n",
       "75246            -122.291376     2453  Subscriber             1991.0   \n",
       "80585            -122.417385     2545  Subscriber             1983.0   \n",
       "\n",
       "      member_gender bike_share_for_all_trip  \n",
       "24191          Male                      No  \n",
       "19944          Male                      No  \n",
       "59749        Female                      No  \n",
       "75246          Male                     Yes  \n",
       "80585          Male                      No  "
      ]
     },
     "execution_count": 9,
     "metadata": {},
     "output_type": "execute_result"
    }
   ],
   "source": [
    "#sample data\n",
    "df.sample(5)"
   ]
  },
  {
   "cell_type": "code",
   "execution_count": 10,
   "metadata": {
    "slideshow": {
     "slide_type": "skip"
    }
   },
   "outputs": [
    {
     "data": {
      "text/html": [
       "<div>\n",
       "<style scoped>\n",
       "    .dataframe tbody tr th:only-of-type {\n",
       "        vertical-align: middle;\n",
       "    }\n",
       "\n",
       "    .dataframe tbody tr th {\n",
       "        vertical-align: top;\n",
       "    }\n",
       "\n",
       "    .dataframe thead th {\n",
       "        text-align: right;\n",
       "    }\n",
       "</style>\n",
       "<table border=\"1\" class=\"dataframe\">\n",
       "  <thead>\n",
       "    <tr style=\"text-align: right;\">\n",
       "      <th></th>\n",
       "      <th>duration_sec</th>\n",
       "      <th>start_station_id</th>\n",
       "      <th>start_station_latitude</th>\n",
       "      <th>start_station_longitude</th>\n",
       "      <th>end_station_id</th>\n",
       "      <th>end_station_latitude</th>\n",
       "      <th>end_station_longitude</th>\n",
       "      <th>bike_id</th>\n",
       "      <th>member_birth_year</th>\n",
       "    </tr>\n",
       "  </thead>\n",
       "  <tbody>\n",
       "    <tr>\n",
       "      <th>count</th>\n",
       "      <td>94802.000000</td>\n",
       "      <td>94802.000000</td>\n",
       "      <td>94802.000000</td>\n",
       "      <td>94802.000000</td>\n",
       "      <td>94802.00000</td>\n",
       "      <td>94802.000000</td>\n",
       "      <td>94802.000000</td>\n",
       "      <td>94802.000000</td>\n",
       "      <td>86963.000000</td>\n",
       "    </tr>\n",
       "    <tr>\n",
       "      <th>mean</th>\n",
       "      <td>870.935930</td>\n",
       "      <td>103.766302</td>\n",
       "      <td>37.773321</td>\n",
       "      <td>-122.361677</td>\n",
       "      <td>101.00982</td>\n",
       "      <td>37.773536</td>\n",
       "      <td>-122.360776</td>\n",
       "      <td>2048.751609</td>\n",
       "      <td>1980.932420</td>\n",
       "    </tr>\n",
       "    <tr>\n",
       "      <th>std</th>\n",
       "      <td>2550.596891</td>\n",
       "      <td>87.730464</td>\n",
       "      <td>0.085744</td>\n",
       "      <td>0.105253</td>\n",
       "      <td>86.77949</td>\n",
       "      <td>0.085552</td>\n",
       "      <td>0.104580</td>\n",
       "      <td>1091.507513</td>\n",
       "      <td>10.803017</td>\n",
       "    </tr>\n",
       "    <tr>\n",
       "      <th>min</th>\n",
       "      <td>61.000000</td>\n",
       "      <td>3.000000</td>\n",
       "      <td>37.317298</td>\n",
       "      <td>-122.444293</td>\n",
       "      <td>3.00000</td>\n",
       "      <td>37.317298</td>\n",
       "      <td>-122.444293</td>\n",
       "      <td>11.000000</td>\n",
       "      <td>1900.000000</td>\n",
       "    </tr>\n",
       "    <tr>\n",
       "      <th>25%</th>\n",
       "      <td>359.000000</td>\n",
       "      <td>30.000000</td>\n",
       "      <td>37.771662</td>\n",
       "      <td>-122.412408</td>\n",
       "      <td>27.00000</td>\n",
       "      <td>37.773063</td>\n",
       "      <td>-122.411306</td>\n",
       "      <td>1133.000000</td>\n",
       "      <td>1975.000000</td>\n",
       "    </tr>\n",
       "    <tr>\n",
       "      <th>50%</th>\n",
       "      <td>555.000000</td>\n",
       "      <td>79.000000</td>\n",
       "      <td>37.781270</td>\n",
       "      <td>-122.398773</td>\n",
       "      <td>76.00000</td>\n",
       "      <td>37.781752</td>\n",
       "      <td>-122.398436</td>\n",
       "      <td>2151.500000</td>\n",
       "      <td>1983.000000</td>\n",
       "    </tr>\n",
       "    <tr>\n",
       "      <th>75%</th>\n",
       "      <td>854.000000</td>\n",
       "      <td>160.000000</td>\n",
       "      <td>37.795392</td>\n",
       "      <td>-122.390428</td>\n",
       "      <td>157.00000</td>\n",
       "      <td>37.795392</td>\n",
       "      <td>-122.390428</td>\n",
       "      <td>3015.000000</td>\n",
       "      <td>1989.000000</td>\n",
       "    </tr>\n",
       "    <tr>\n",
       "      <th>max</th>\n",
       "      <td>85546.000000</td>\n",
       "      <td>342.000000</td>\n",
       "      <td>37.880222</td>\n",
       "      <td>-121.874119</td>\n",
       "      <td>342.00000</td>\n",
       "      <td>37.880222</td>\n",
       "      <td>-121.874119</td>\n",
       "      <td>3744.000000</td>\n",
       "      <td>2000.000000</td>\n",
       "    </tr>\n",
       "  </tbody>\n",
       "</table>\n",
       "</div>"
      ],
      "text/plain": [
       "       duration_sec  start_station_id  start_station_latitude  \\\n",
       "count  94802.000000      94802.000000            94802.000000   \n",
       "mean     870.935930        103.766302               37.773321   \n",
       "std     2550.596891         87.730464                0.085744   \n",
       "min       61.000000          3.000000               37.317298   \n",
       "25%      359.000000         30.000000               37.771662   \n",
       "50%      555.000000         79.000000               37.781270   \n",
       "75%      854.000000        160.000000               37.795392   \n",
       "max    85546.000000        342.000000               37.880222   \n",
       "\n",
       "       start_station_longitude  end_station_id  end_station_latitude  \\\n",
       "count             94802.000000     94802.00000          94802.000000   \n",
       "mean               -122.361677       101.00982             37.773536   \n",
       "std                   0.105253        86.77949              0.085552   \n",
       "min                -122.444293         3.00000             37.317298   \n",
       "25%                -122.412408        27.00000             37.773063   \n",
       "50%                -122.398773        76.00000             37.781752   \n",
       "75%                -122.390428       157.00000             37.795392   \n",
       "max                -121.874119       342.00000             37.880222   \n",
       "\n",
       "       end_station_longitude       bike_id  member_birth_year  \n",
       "count           94802.000000  94802.000000       86963.000000  \n",
       "mean             -122.360776   2048.751609        1980.932420  \n",
       "std                 0.104580   1091.507513          10.803017  \n",
       "min              -122.444293     11.000000        1900.000000  \n",
       "25%              -122.411306   1133.000000        1975.000000  \n",
       "50%              -122.398436   2151.500000        1983.000000  \n",
       "75%              -122.390428   3015.000000        1989.000000  \n",
       "max              -121.874119   3744.000000        2000.000000  "
      ]
     },
     "execution_count": 10,
     "metadata": {},
     "output_type": "execute_result"
    }
   ],
   "source": [
    "df.describe()"
   ]
  },
  {
   "cell_type": "markdown",
   "metadata": {
    "slideshow": {
     "slide_type": "skip"
    }
   },
   "source": [
    "###  df Table"
   ]
  },
  {
   "cell_type": "markdown",
   "metadata": {
    "slideshow": {
     "slide_type": "skip"
    }
   },
   "source": [
    "-  create  a new column called duration_min from duration_sec\n",
    "- wrong dtype for start_time and end_time\n",
    "- create day from start_time\n",
    "- drop some irrelevant columns"
   ]
  },
  {
   "cell_type": "markdown",
   "metadata": {
    "slideshow": {
     "slide_type": "skip"
    }
   },
   "source": [
    "Data Cleaning"
   ]
  },
  {
   "cell_type": "markdown",
   "metadata": {
    "slideshow": {
     "slide_type": "skip"
    }
   },
   "source": [
    "#### Define\n",
    " - create a new column called duration_min from duration_sec,wrong dtype for start_time and end_time and a create day from start_time"
   ]
  },
  {
   "cell_type": "markdown",
   "metadata": {
    "slideshow": {
     "slide_type": "skip"
    }
   },
   "source": [
    "#### Code"
   ]
  },
  {
   "cell_type": "code",
   "execution_count": 11,
   "metadata": {
    "slideshow": {
     "slide_type": "skip"
    }
   },
   "outputs": [],
   "source": [
    "# create  duration_min column \n",
    "df['duration_min'] =df['duration_sec'] /60\n",
    "    "
   ]
  },
  {
   "cell_type": "code",
   "execution_count": 12,
   "metadata": {
    "slideshow": {
     "slide_type": "skip"
    }
   },
   "outputs": [],
   "source": [
    "#converting start-time and end_time to datatime\n",
    "df[['start_time','end_time']] =df[['start_time','end_time']].apply(pd.to_datetime)"
   ]
  },
  {
   "cell_type": "code",
   "execution_count": 13,
   "metadata": {
    "slideshow": {
     "slide_type": "skip"
    }
   },
   "outputs": [],
   "source": [
    "#create  day from start_time \n",
    "df['day'] = df.start_time.dt.strftime(\"%A\")"
   ]
  },
  {
   "cell_type": "markdown",
   "metadata": {
    "slideshow": {
     "slide_type": "skip"
    }
   },
   "source": [
    "#### Test"
   ]
  },
  {
   "cell_type": "code",
   "execution_count": 14,
   "metadata": {
    "scrolled": false,
    "slideshow": {
     "slide_type": "skip"
    }
   },
   "outputs": [
    {
     "data": {
      "text/html": [
       "<div>\n",
       "<style scoped>\n",
       "    .dataframe tbody tr th:only-of-type {\n",
       "        vertical-align: middle;\n",
       "    }\n",
       "\n",
       "    .dataframe tbody tr th {\n",
       "        vertical-align: top;\n",
       "    }\n",
       "\n",
       "    .dataframe thead th {\n",
       "        text-align: right;\n",
       "    }\n",
       "</style>\n",
       "<table border=\"1\" class=\"dataframe\">\n",
       "  <thead>\n",
       "    <tr style=\"text-align: right;\">\n",
       "      <th></th>\n",
       "      <th>duration_sec</th>\n",
       "      <th>start_time</th>\n",
       "      <th>end_time</th>\n",
       "      <th>start_station_id</th>\n",
       "      <th>start_station_name</th>\n",
       "      <th>start_station_latitude</th>\n",
       "      <th>start_station_longitude</th>\n",
       "      <th>end_station_id</th>\n",
       "      <th>end_station_name</th>\n",
       "      <th>end_station_latitude</th>\n",
       "      <th>end_station_longitude</th>\n",
       "      <th>bike_id</th>\n",
       "      <th>user_type</th>\n",
       "      <th>member_birth_year</th>\n",
       "      <th>member_gender</th>\n",
       "      <th>bike_share_for_all_trip</th>\n",
       "      <th>duration_min</th>\n",
       "      <th>day</th>\n",
       "    </tr>\n",
       "  </thead>\n",
       "  <tbody>\n",
       "    <tr>\n",
       "      <th>0</th>\n",
       "      <td>75284</td>\n",
       "      <td>2018-01-31 22:52:35.239</td>\n",
       "      <td>2018-02-01 19:47:19.824</td>\n",
       "      <td>120</td>\n",
       "      <td>Mission Dolores Park</td>\n",
       "      <td>37.761420</td>\n",
       "      <td>-122.426435</td>\n",
       "      <td>285</td>\n",
       "      <td>Webster St at O'Farrell St</td>\n",
       "      <td>37.783521</td>\n",
       "      <td>-122.431158</td>\n",
       "      <td>2765</td>\n",
       "      <td>Subscriber</td>\n",
       "      <td>1986.0</td>\n",
       "      <td>Male</td>\n",
       "      <td>No</td>\n",
       "      <td>1254.733333</td>\n",
       "      <td>Wednesday</td>\n",
       "    </tr>\n",
       "    <tr>\n",
       "      <th>1</th>\n",
       "      <td>85422</td>\n",
       "      <td>2018-01-31 16:13:34.351</td>\n",
       "      <td>2018-02-01 15:57:17.310</td>\n",
       "      <td>15</td>\n",
       "      <td>San Francisco Ferry Building (Harry Bridges Pl...</td>\n",
       "      <td>37.795392</td>\n",
       "      <td>-122.394203</td>\n",
       "      <td>15</td>\n",
       "      <td>San Francisco Ferry Building (Harry Bridges Pl...</td>\n",
       "      <td>37.795392</td>\n",
       "      <td>-122.394203</td>\n",
       "      <td>2815</td>\n",
       "      <td>Customer</td>\n",
       "      <td>NaN</td>\n",
       "      <td>NaN</td>\n",
       "      <td>No</td>\n",
       "      <td>1423.700000</td>\n",
       "      <td>Wednesday</td>\n",
       "    </tr>\n",
       "    <tr>\n",
       "      <th>2</th>\n",
       "      <td>71576</td>\n",
       "      <td>2018-01-31 14:23:55.889</td>\n",
       "      <td>2018-02-01 10:16:52.116</td>\n",
       "      <td>304</td>\n",
       "      <td>Jackson St at 5th St</td>\n",
       "      <td>37.348759</td>\n",
       "      <td>-121.894798</td>\n",
       "      <td>296</td>\n",
       "      <td>5th St at Virginia St</td>\n",
       "      <td>37.325998</td>\n",
       "      <td>-121.877120</td>\n",
       "      <td>3039</td>\n",
       "      <td>Customer</td>\n",
       "      <td>1996.0</td>\n",
       "      <td>Male</td>\n",
       "      <td>No</td>\n",
       "      <td>1192.933333</td>\n",
       "      <td>Wednesday</td>\n",
       "    </tr>\n",
       "    <tr>\n",
       "      <th>3</th>\n",
       "      <td>61076</td>\n",
       "      <td>2018-01-31 14:53:23.562</td>\n",
       "      <td>2018-02-01 07:51:20.500</td>\n",
       "      <td>75</td>\n",
       "      <td>Market St at Franklin St</td>\n",
       "      <td>37.773793</td>\n",
       "      <td>-122.421239</td>\n",
       "      <td>47</td>\n",
       "      <td>4th St at Harrison St</td>\n",
       "      <td>37.780955</td>\n",
       "      <td>-122.399749</td>\n",
       "      <td>321</td>\n",
       "      <td>Customer</td>\n",
       "      <td>NaN</td>\n",
       "      <td>NaN</td>\n",
       "      <td>No</td>\n",
       "      <td>1017.933333</td>\n",
       "      <td>Wednesday</td>\n",
       "    </tr>\n",
       "    <tr>\n",
       "      <th>4</th>\n",
       "      <td>39966</td>\n",
       "      <td>2018-01-31 19:52:24.667</td>\n",
       "      <td>2018-02-01 06:58:31.053</td>\n",
       "      <td>74</td>\n",
       "      <td>Laguna St at Hayes St</td>\n",
       "      <td>37.776435</td>\n",
       "      <td>-122.426244</td>\n",
       "      <td>19</td>\n",
       "      <td>Post St at Kearny St</td>\n",
       "      <td>37.788975</td>\n",
       "      <td>-122.403452</td>\n",
       "      <td>617</td>\n",
       "      <td>Subscriber</td>\n",
       "      <td>1991.0</td>\n",
       "      <td>Male</td>\n",
       "      <td>No</td>\n",
       "      <td>666.100000</td>\n",
       "      <td>Wednesday</td>\n",
       "    </tr>\n",
       "  </tbody>\n",
       "</table>\n",
       "</div>"
      ],
      "text/plain": [
       "   duration_sec              start_time                end_time  \\\n",
       "0         75284 2018-01-31 22:52:35.239 2018-02-01 19:47:19.824   \n",
       "1         85422 2018-01-31 16:13:34.351 2018-02-01 15:57:17.310   \n",
       "2         71576 2018-01-31 14:23:55.889 2018-02-01 10:16:52.116   \n",
       "3         61076 2018-01-31 14:53:23.562 2018-02-01 07:51:20.500   \n",
       "4         39966 2018-01-31 19:52:24.667 2018-02-01 06:58:31.053   \n",
       "\n",
       "   start_station_id                                 start_station_name  \\\n",
       "0               120                               Mission Dolores Park   \n",
       "1                15  San Francisco Ferry Building (Harry Bridges Pl...   \n",
       "2               304                               Jackson St at 5th St   \n",
       "3                75                           Market St at Franklin St   \n",
       "4                74                              Laguna St at Hayes St   \n",
       "\n",
       "   start_station_latitude  start_station_longitude  end_station_id  \\\n",
       "0               37.761420              -122.426435             285   \n",
       "1               37.795392              -122.394203              15   \n",
       "2               37.348759              -121.894798             296   \n",
       "3               37.773793              -122.421239              47   \n",
       "4               37.776435              -122.426244              19   \n",
       "\n",
       "                                    end_station_name  end_station_latitude  \\\n",
       "0                         Webster St at O'Farrell St             37.783521   \n",
       "1  San Francisco Ferry Building (Harry Bridges Pl...             37.795392   \n",
       "2                              5th St at Virginia St             37.325998   \n",
       "3                              4th St at Harrison St             37.780955   \n",
       "4                               Post St at Kearny St             37.788975   \n",
       "\n",
       "   end_station_longitude  bike_id   user_type  member_birth_year  \\\n",
       "0            -122.431158     2765  Subscriber             1986.0   \n",
       "1            -122.394203     2815    Customer                NaN   \n",
       "2            -121.877120     3039    Customer             1996.0   \n",
       "3            -122.399749      321    Customer                NaN   \n",
       "4            -122.403452      617  Subscriber             1991.0   \n",
       "\n",
       "  member_gender bike_share_for_all_trip  duration_min        day  \n",
       "0          Male                      No   1254.733333  Wednesday  \n",
       "1           NaN                      No   1423.700000  Wednesday  \n",
       "2          Male                      No   1192.933333  Wednesday  \n",
       "3           NaN                      No   1017.933333  Wednesday  \n",
       "4          Male                      No    666.100000  Wednesday  "
      ]
     },
     "execution_count": 14,
     "metadata": {},
     "output_type": "execute_result"
    }
   ],
   "source": [
    "df.head()"
   ]
  },
  {
   "cell_type": "markdown",
   "metadata": {
    "slideshow": {
     "slide_type": "skip"
    }
   },
   "source": [
    "#### define\n",
    "- drop some irrelevant columns"
   ]
  },
  {
   "cell_type": "markdown",
   "metadata": {
    "slideshow": {
     "slide_type": "skip"
    }
   },
   "source": [
    "#### code"
   ]
  },
  {
   "cell_type": "code",
   "execution_count": 15,
   "metadata": {
    "slideshow": {
     "slide_type": "skip"
    }
   },
   "outputs": [
    {
     "data": {
      "text/plain": [
       "Index(['duration_sec', 'start_time', 'end_time', 'start_station_id',\n",
       "       'start_station_name', 'start_station_latitude',\n",
       "       'start_station_longitude', 'end_station_id', 'end_station_name',\n",
       "       'end_station_latitude', 'end_station_longitude', 'bike_id', 'user_type',\n",
       "       'member_birth_year', 'member_gender', 'bike_share_for_all_trip',\n",
       "       'duration_min', 'day'],\n",
       "      dtype='object')"
      ]
     },
     "execution_count": 15,
     "metadata": {},
     "output_type": "execute_result"
    }
   ],
   "source": [
    "df.columns"
   ]
  },
  {
   "cell_type": "code",
   "execution_count": 16,
   "metadata": {
    "slideshow": {
     "slide_type": "skip"
    }
   },
   "outputs": [],
   "source": [
    "df.drop(['start_station_id','start_station_name','start_station_latitude','start_station_longitude','end_station_id','end_station_name','end_station_latitude','end_station_longitude'] ,axis = 1, inplace = True)"
   ]
  },
  {
   "cell_type": "markdown",
   "metadata": {
    "slideshow": {
     "slide_type": "skip"
    }
   },
   "source": [
    "#### Test"
   ]
  },
  {
   "cell_type": "code",
   "execution_count": 17,
   "metadata": {
    "scrolled": false,
    "slideshow": {
     "slide_type": "skip"
    }
   },
   "outputs": [
    {
     "name": "stdout",
     "output_type": "stream",
     "text": [
      "<class 'pandas.core.frame.DataFrame'>\n",
      "RangeIndex: 94802 entries, 0 to 94801\n",
      "Data columns (total 10 columns):\n",
      "duration_sec               94802 non-null int64\n",
      "start_time                 94802 non-null datetime64[ns]\n",
      "end_time                   94802 non-null datetime64[ns]\n",
      "bike_id                    94802 non-null int64\n",
      "user_type                  94802 non-null object\n",
      "member_birth_year          86963 non-null float64\n",
      "member_gender              87001 non-null object\n",
      "bike_share_for_all_trip    94802 non-null object\n",
      "duration_min               94802 non-null float64\n",
      "day                        94802 non-null object\n",
      "dtypes: datetime64[ns](2), float64(2), int64(2), object(4)\n",
      "memory usage: 7.2+ MB\n"
     ]
    }
   ],
   "source": [
    "df.info()"
   ]
  },
  {
   "cell_type": "code",
   "execution_count": 18,
   "metadata": {
    "scrolled": false,
    "slideshow": {
     "slide_type": "skip"
    }
   },
   "outputs": [
    {
     "data": {
      "text/html": [
       "<div>\n",
       "<style scoped>\n",
       "    .dataframe tbody tr th:only-of-type {\n",
       "        vertical-align: middle;\n",
       "    }\n",
       "\n",
       "    .dataframe tbody tr th {\n",
       "        vertical-align: top;\n",
       "    }\n",
       "\n",
       "    .dataframe thead th {\n",
       "        text-align: right;\n",
       "    }\n",
       "</style>\n",
       "<table border=\"1\" class=\"dataframe\">\n",
       "  <thead>\n",
       "    <tr style=\"text-align: right;\">\n",
       "      <th></th>\n",
       "      <th>duration_sec</th>\n",
       "      <th>bike_id</th>\n",
       "      <th>member_birth_year</th>\n",
       "      <th>duration_min</th>\n",
       "    </tr>\n",
       "  </thead>\n",
       "  <tbody>\n",
       "    <tr>\n",
       "      <th>count</th>\n",
       "      <td>94802.000000</td>\n",
       "      <td>94802.000000</td>\n",
       "      <td>86963.000000</td>\n",
       "      <td>94802.000000</td>\n",
       "    </tr>\n",
       "    <tr>\n",
       "      <th>mean</th>\n",
       "      <td>870.935930</td>\n",
       "      <td>2048.751609</td>\n",
       "      <td>1980.932420</td>\n",
       "      <td>14.515599</td>\n",
       "    </tr>\n",
       "    <tr>\n",
       "      <th>std</th>\n",
       "      <td>2550.596891</td>\n",
       "      <td>1091.507513</td>\n",
       "      <td>10.803017</td>\n",
       "      <td>42.509948</td>\n",
       "    </tr>\n",
       "    <tr>\n",
       "      <th>min</th>\n",
       "      <td>61.000000</td>\n",
       "      <td>11.000000</td>\n",
       "      <td>1900.000000</td>\n",
       "      <td>1.016667</td>\n",
       "    </tr>\n",
       "    <tr>\n",
       "      <th>25%</th>\n",
       "      <td>359.000000</td>\n",
       "      <td>1133.000000</td>\n",
       "      <td>1975.000000</td>\n",
       "      <td>5.983333</td>\n",
       "    </tr>\n",
       "    <tr>\n",
       "      <th>50%</th>\n",
       "      <td>555.000000</td>\n",
       "      <td>2151.500000</td>\n",
       "      <td>1983.000000</td>\n",
       "      <td>9.250000</td>\n",
       "    </tr>\n",
       "    <tr>\n",
       "      <th>75%</th>\n",
       "      <td>854.000000</td>\n",
       "      <td>3015.000000</td>\n",
       "      <td>1989.000000</td>\n",
       "      <td>14.233333</td>\n",
       "    </tr>\n",
       "    <tr>\n",
       "      <th>max</th>\n",
       "      <td>85546.000000</td>\n",
       "      <td>3744.000000</td>\n",
       "      <td>2000.000000</td>\n",
       "      <td>1425.766667</td>\n",
       "    </tr>\n",
       "  </tbody>\n",
       "</table>\n",
       "</div>"
      ],
      "text/plain": [
       "       duration_sec       bike_id  member_birth_year  duration_min\n",
       "count  94802.000000  94802.000000       86963.000000  94802.000000\n",
       "mean     870.935930   2048.751609        1980.932420     14.515599\n",
       "std     2550.596891   1091.507513          10.803017     42.509948\n",
       "min       61.000000     11.000000        1900.000000      1.016667\n",
       "25%      359.000000   1133.000000        1975.000000      5.983333\n",
       "50%      555.000000   2151.500000        1983.000000      9.250000\n",
       "75%      854.000000   3015.000000        1989.000000     14.233333\n",
       "max    85546.000000   3744.000000        2000.000000   1425.766667"
      ]
     },
     "execution_count": 18,
     "metadata": {},
     "output_type": "execute_result"
    }
   ],
   "source": [
    "df.describe()"
   ]
  },
  {
   "cell_type": "code",
   "execution_count": 19,
   "metadata": {
    "scrolled": false,
    "slideshow": {
     "slide_type": "skip"
    }
   },
   "outputs": [
    {
     "data": {
      "text/plain": [
       "array(['Subscriber', 'Customer'], dtype=object)"
      ]
     },
     "execution_count": 19,
     "metadata": {},
     "output_type": "execute_result"
    }
   ],
   "source": [
    "df.user_type.unique()"
   ]
  },
  {
   "cell_type": "code",
   "execution_count": 20,
   "metadata": {
    "slideshow": {
     "slide_type": "skip"
    }
   },
   "outputs": [],
   "source": [
    "df_clean = df.copy()"
   ]
  },
  {
   "cell_type": "code",
   "execution_count": 21,
   "metadata": {
    "slideshow": {
     "slide_type": "skip"
    }
   },
   "outputs": [
    {
     "data": {
      "text/html": [
       "<div>\n",
       "<style scoped>\n",
       "    .dataframe tbody tr th:only-of-type {\n",
       "        vertical-align: middle;\n",
       "    }\n",
       "\n",
       "    .dataframe tbody tr th {\n",
       "        vertical-align: top;\n",
       "    }\n",
       "\n",
       "    .dataframe thead th {\n",
       "        text-align: right;\n",
       "    }\n",
       "</style>\n",
       "<table border=\"1\" class=\"dataframe\">\n",
       "  <thead>\n",
       "    <tr style=\"text-align: right;\">\n",
       "      <th></th>\n",
       "      <th>duration_sec</th>\n",
       "      <th>start_time</th>\n",
       "      <th>end_time</th>\n",
       "      <th>bike_id</th>\n",
       "      <th>user_type</th>\n",
       "      <th>member_birth_year</th>\n",
       "      <th>member_gender</th>\n",
       "      <th>bike_share_for_all_trip</th>\n",
       "      <th>duration_min</th>\n",
       "      <th>day</th>\n",
       "    </tr>\n",
       "  </thead>\n",
       "  <tbody>\n",
       "    <tr>\n",
       "      <th>0</th>\n",
       "      <td>75284</td>\n",
       "      <td>2018-01-31 22:52:35.239</td>\n",
       "      <td>2018-02-01 19:47:19.824</td>\n",
       "      <td>2765</td>\n",
       "      <td>Subscriber</td>\n",
       "      <td>1986.0</td>\n",
       "      <td>Male</td>\n",
       "      <td>No</td>\n",
       "      <td>1254.733333</td>\n",
       "      <td>Wednesday</td>\n",
       "    </tr>\n",
       "    <tr>\n",
       "      <th>1</th>\n",
       "      <td>85422</td>\n",
       "      <td>2018-01-31 16:13:34.351</td>\n",
       "      <td>2018-02-01 15:57:17.310</td>\n",
       "      <td>2815</td>\n",
       "      <td>Customer</td>\n",
       "      <td>NaN</td>\n",
       "      <td>NaN</td>\n",
       "      <td>No</td>\n",
       "      <td>1423.700000</td>\n",
       "      <td>Wednesday</td>\n",
       "    </tr>\n",
       "    <tr>\n",
       "      <th>2</th>\n",
       "      <td>71576</td>\n",
       "      <td>2018-01-31 14:23:55.889</td>\n",
       "      <td>2018-02-01 10:16:52.116</td>\n",
       "      <td>3039</td>\n",
       "      <td>Customer</td>\n",
       "      <td>1996.0</td>\n",
       "      <td>Male</td>\n",
       "      <td>No</td>\n",
       "      <td>1192.933333</td>\n",
       "      <td>Wednesday</td>\n",
       "    </tr>\n",
       "    <tr>\n",
       "      <th>3</th>\n",
       "      <td>61076</td>\n",
       "      <td>2018-01-31 14:53:23.562</td>\n",
       "      <td>2018-02-01 07:51:20.500</td>\n",
       "      <td>321</td>\n",
       "      <td>Customer</td>\n",
       "      <td>NaN</td>\n",
       "      <td>NaN</td>\n",
       "      <td>No</td>\n",
       "      <td>1017.933333</td>\n",
       "      <td>Wednesday</td>\n",
       "    </tr>\n",
       "    <tr>\n",
       "      <th>4</th>\n",
       "      <td>39966</td>\n",
       "      <td>2018-01-31 19:52:24.667</td>\n",
       "      <td>2018-02-01 06:58:31.053</td>\n",
       "      <td>617</td>\n",
       "      <td>Subscriber</td>\n",
       "      <td>1991.0</td>\n",
       "      <td>Male</td>\n",
       "      <td>No</td>\n",
       "      <td>666.100000</td>\n",
       "      <td>Wednesday</td>\n",
       "    </tr>\n",
       "  </tbody>\n",
       "</table>\n",
       "</div>"
      ],
      "text/plain": [
       "   duration_sec              start_time                end_time  bike_id  \\\n",
       "0         75284 2018-01-31 22:52:35.239 2018-02-01 19:47:19.824     2765   \n",
       "1         85422 2018-01-31 16:13:34.351 2018-02-01 15:57:17.310     2815   \n",
       "2         71576 2018-01-31 14:23:55.889 2018-02-01 10:16:52.116     3039   \n",
       "3         61076 2018-01-31 14:53:23.562 2018-02-01 07:51:20.500      321   \n",
       "4         39966 2018-01-31 19:52:24.667 2018-02-01 06:58:31.053      617   \n",
       "\n",
       "    user_type  member_birth_year member_gender bike_share_for_all_trip  \\\n",
       "0  Subscriber             1986.0          Male                      No   \n",
       "1    Customer                NaN           NaN                      No   \n",
       "2    Customer             1996.0          Male                      No   \n",
       "3    Customer                NaN           NaN                      No   \n",
       "4  Subscriber             1991.0          Male                      No   \n",
       "\n",
       "   duration_min        day  \n",
       "0   1254.733333  Wednesday  \n",
       "1   1423.700000  Wednesday  \n",
       "2   1192.933333  Wednesday  \n",
       "3   1017.933333  Wednesday  \n",
       "4    666.100000  Wednesday  "
      ]
     },
     "execution_count": 21,
     "metadata": {},
     "output_type": "execute_result"
    }
   ],
   "source": [
    "df_clean.head()"
   ]
  },
  {
   "cell_type": "code",
   "execution_count": 22,
   "metadata": {
    "slideshow": {
     "slide_type": "skip"
    }
   },
   "outputs": [
    {
     "name": "stdout",
     "output_type": "stream",
     "text": [
      "<class 'pandas.core.frame.DataFrame'>\n",
      "RangeIndex: 94802 entries, 0 to 94801\n",
      "Data columns (total 10 columns):\n",
      "duration_sec               94802 non-null int64\n",
      "start_time                 94802 non-null datetime64[ns]\n",
      "end_time                   94802 non-null datetime64[ns]\n",
      "bike_id                    94802 non-null int64\n",
      "user_type                  94802 non-null object\n",
      "member_birth_year          86963 non-null float64\n",
      "member_gender              87001 non-null object\n",
      "bike_share_for_all_trip    94802 non-null object\n",
      "duration_min               94802 non-null float64\n",
      "day                        94802 non-null object\n",
      "dtypes: datetime64[ns](2), float64(2), int64(2), object(4)\n",
      "memory usage: 7.2+ MB\n"
     ]
    }
   ],
   "source": [
    "df.info()"
   ]
  },
  {
   "cell_type": "markdown",
   "metadata": {
    "slideshow": {
     "slide_type": "slide"
    }
   },
   "source": [
    "## Data Structure\n",
    "The 2018 fordgobike dataset consist of 94802 entries with 16 columns,with 2 datatimes , 5 floats, 4 int64 and 7strings \n"
   ]
  },
  {
   "cell_type": "markdown",
   "metadata": {
    "slideshow": {
     "slide_type": "slide"
    }
   },
   "source": [
    " ## Main Features\n",
    " The features of Fordgobike system include:\n",
    "- duration_sec              \n",
    "- start_time                \n",
    "- end_time                   \n",
    "- start_station_id         \n",
    "- start_station_name         \n",
    "- start_station_latitude    \n",
    "- start_station_longitude    \n",
    "- end_station_id             \n",
    "- end_station_name           \n",
    "- end_station_latitude      \n",
    "- end_station_longitude     \n",
    "- bike_id                    \n",
    "- user_type                  \n",
    "- member_birth_year          \n",
    "- member_gender              \n",
    "- bike_share_for_all_trip    \n"
   ]
  },
  {
   "cell_type": "markdown",
   "metadata": {
    "slideshow": {
     "slide_type": "skip"
    }
   },
   "source": []
  },
  {
   "cell_type": "markdown",
   "metadata": {
    "slideshow": {
     "slide_type": "slide"
    }
   },
   "source": [
    " ## Datasets supports\n",
    "  I would be using duration_sec,start_time end_time,bike_iduser_type,member_birth_year,member_gender,bike_share_for_all_trip, duration_min and day features since i am investigating   the impact of gender on  fordgobike trip"
   ]
  },
  {
   "cell_type": "markdown",
   "metadata": {
    "slideshow": {
     "slide_type": "skip"
    }
   },
   "source": [
    "## Univariate Exploration"
   ]
  },
  {
   "cell_type": "markdown",
   "metadata": {
    "slideshow": {
     "slide_type": "slide"
    }
   },
   "source": [
    "fordgobike trip gender distribution : \n",
    "based on count plot exploration the gender that make the highest trip was male , follow by female and other respectively.Male folks that partake in trip was above 6000 compare to the female which is almost 2000."
   ]
  },
  {
   "cell_type": "code",
   "execution_count": 23,
   "metadata": {
    "scrolled": true,
    "slideshow": {
     "slide_type": "subslide"
    }
   },
   "outputs": [
    {
     "data": {
      "image/png": "[encoded data removed]",
      "text/plain": [
       "<Figure size 432x288 with 1 Axes>"
      ]
     },
     "metadata": {
      "needs_background": "light"
     },
     "output_type": "display_data"
    }
   ],
   "source": [
    "#plot of gender\n",
    "base_color = sb.color_palette()[0]\n",
    "gender = df_clean['member_gender'].value_counts().index\n",
    "sb.countplot(data = df_clean, x ='member_gender',color = base_color, order = gender)\n",
    "plt.xlabel('Gender')\n",
    "plt.ylabel('Gender Count')\n",
    "plt.title('Fordgobike Trip Gender Distribution ')\n",
    "plt.show()\n"
   ]
  },
  {
   "cell_type": "markdown",
   "metadata": {
    "slideshow": {
     "slide_type": "slide"
    }
   },
   "source": [
    "User:\n",
    "on the countplot findings you can see that the number of subcriber that are fully registered is higher than the customer fordgobike system  .The subscriber is more 80000 as compared to  13000 customers."
   ]
  },
  {
   "cell_type": "code",
   "execution_count": 24,
   "metadata": {
    "scrolled": true,
    "slideshow": {
     "slide_type": "subslide"
    }
   },
   "outputs": [
    {
     "data": {
      "image/png": "[encoded data removed]",
      "text/plain": [
       "<Figure size 432x288 with 1 Axes>"
      ]
     },
     "metadata": {
      "needs_background": "light"
     },
     "output_type": "display_data"
    }
   ],
   "source": [
    "# user plot\n",
    "base_color = sb.color_palette()[0]\n",
    "user = df_clean['user_type'].value_counts().index\n",
    "sb.countplot(data = df_clean, y ='user_type',color = base_color, order = user)\n",
    "plt.xlabel('User')\n",
    "plt.ylabel('User Trip')\n",
    "plt.title('Fordgobike Trip User Distribution ')\n",
    "plt.show()"
   ]
  },
  {
   "cell_type": "markdown",
   "metadata": {
    "slideshow": {
     "slide_type": "skip"
    }
   },
   "source": [
    "  - User: based on the countplot findings you can see that the number of subcriber that are fully registered is higher than the customer fordgobike system"
   ]
  },
  {
   "cell_type": "markdown",
   "metadata": {
    "slideshow": {
     "slide_type": "slide"
    }
   },
   "source": [
    " Day Trip : here i did plot the days of the plot, i want to know how days is related to gender impact of fordgobike trip system. as you can see the highest day for patronage in fordgobike is Tuesday wednesday, Thurdays,friday, Monday,Saturday and Sundays in that descending order."
   ]
  },
  {
   "cell_type": "code",
   "execution_count": 25,
   "metadata": {
    "scrolled": true,
    "slideshow": {
     "slide_type": "subslide"
    }
   },
   "outputs": [
    {
     "data": {
      "image/png": "[encoded data removed]",
      "text/plain": [
       "<Figure size 432x288 with 1 Axes>"
      ]
     },
     "metadata": {
      "needs_background": "light"
     },
     "output_type": "display_data"
    }
   ],
   "source": [
    "# Day plot\n",
    "base_color = sb.color_palette()[0]\n",
    "start_order = df_clean['day'].value_counts().index\n",
    "sb.countplot(data = df_clean, y='day',color = base_color, order = start_order)\n",
    "plt.xlabel('Days')\n",
    "plt.ylabel('Day Trip')\n",
    "plt.title('Fordgobike Trip Day Distribution ')\n",
    "plt.show()"
   ]
  },
  {
   "cell_type": "markdown",
   "metadata": {
    "slideshow": {
     "slide_type": "skip"
    }
   },
   "source": [
    "- Day Trip : here i did plot the  days of the plot, i want to know how days is related to gender impact of fordgobike trip system. as you can see the highest day  for patronage in fordgobike is Tuesday wednesday, Thurdays,friday, Monday,Saturday and Sundays in that descending order."
   ]
  },
  {
   "cell_type": "markdown",
   "metadata": {
    "slideshow": {
     "slide_type": "slide"
    }
   },
   "source": [
    "Bike Duration: During my histogram plotting , i discover that is a skewed distribution that required scale transformation in order to get a better intepretation in relation to member_gender so that i see the gender impact on forgobike trip"
   ]
  },
  {
   "cell_type": "code",
   "execution_count": 26,
   "metadata": {
    "slideshow": {
     "slide_type": "subslide"
    }
   },
   "outputs": [
    {
     "data": {
      "image/png": "[encoded data removed]",
      "text/plain": [
       "<Figure size 720x576 with 1 Axes>"
      ]
     },
     "metadata": {
      "needs_background": "light"
     },
     "output_type": "display_data"
    }
   ],
   "source": [
    "# Duration_ sec plot\n",
    "plt.figure(figsize = (10,8))\n",
    "bin_edges =np.arange(0, df_clean['duration_sec'].max()+100,100)\n",
    "plt.hist(data = df_clean, x ='duration_sec',bins = bin_edges)\n",
    "plt.xlim(0, 4000)\n",
    "plt.xlabel(' bike Trip (sec)')\n",
    "plt.ylabel('Trip')\n",
    "plt.title('Fordgobike Trip Duration Distribution ')\n",
    "plt.show()"
   ]
  },
  {
   "cell_type": "markdown",
   "metadata": {
    "slideshow": {
     "slide_type": "subslide"
    }
   },
   "source": [
    "Bike Duration: \n",
    "During my histogram plotting , i discover that is a skewed distribution that required scale transformation in order to get a better intepretation in relation to member_gender  so that i see the gender impact on forgobike trip"
   ]
  },
  {
   "cell_type": "code",
   "execution_count": 27,
   "metadata": {
    "scrolled": true,
    "slideshow": {
     "slide_type": "skip"
    }
   },
   "outputs": [
    {
     "data": {
      "text/plain": [
       "count    4.976817\n",
       "mean     1.161835\n",
       "std      1.628491\n",
       "min      0.007179\n",
       "25%      0.776943\n",
       "50%      0.966142\n",
       "75%      1.153307\n",
       "max      3.154048\n",
       "Name: duration_min, dtype: float64"
      ]
     },
     "execution_count": 27,
     "metadata": {},
     "output_type": "execute_result"
    }
   ],
   "source": [
    "# to picks interval\n",
    "np.log10(df_clean.duration_min.describe())"
   ]
  },
  {
   "cell_type": "markdown",
   "metadata": {
    "slideshow": {
     "slide_type": "slide"
    }
   },
   "source": [
    "so before i did my scale transformation, i added an extra columns extract from my friend duration_sec,then i pick intevals and started my scale transformation.the least trip start at 10mins"
   ]
  },
  {
   "cell_type": "code",
   "execution_count": 28,
   "metadata": {
    "slideshow": {
     "slide_type": "subslide"
    }
   },
   "outputs": [
    {
     "data": {
      "image/png": "[encoded data removed]",
      "text/plain": [
       "<Figure size 720x576 with 1 Axes>"
      ]
     },
     "metadata": {
      "needs_background": "light"
     },
     "output_type": "display_data"
    }
   ],
   "source": [
    "# Duration_ min plot\n",
    "plt.figure(figsize = (10,8))\n",
    "bin_edges =10 ** np.arange(-1,3.0+0.1,0.1)\n",
    "ticks = [0.1,0.3,1,3,10,30,100,300]\n",
    "labels = ['{}'.format(val) for val in ticks]\n",
    "plt.hist(data = df_clean, x ='duration_min',bins = bin_edges)\n",
    "plt.xticks(ticks, labels)\n",
    "plt.xlabel(' bike Trip (min)')\n",
    "plt.ylabel('Trip')\n",
    "plt.title('Fordgobike Trip Duration Distribution ')\n",
    "plt.xscale('log');"
   ]
  },
  {
   "cell_type": "markdown",
   "metadata": {
    "slideshow": {
     "slide_type": "skip"
    }
   },
   "source": [
    "- so  before i did my scale transformation, i added an extra columns extract from my friend duration_sec,then  i pick  intevals and started my scale transformation.the  least trip start at 10mins"
   ]
  },
  {
   "cell_type": "markdown",
   "metadata": {
    "slideshow": {
     "slide_type": "skip"
    }
   },
   "source": [
    "## Bivariate Exploration"
   ]
  },
  {
   "cell_type": "code",
   "execution_count": 29,
   "metadata": {
    "slideshow": {
     "slide_type": "skip"
    }
   },
   "outputs": [
    {
     "name": "stderr",
     "output_type": "stream",
     "text": [
      "C:\\ProgramData\\Anaconda3\\lib\\site-packages\\scipy\\stats\\stats.py:1713: FutureWarning: Using a non-tuple sequence for multidimensional indexing is deprecated; use `arr[tuple(seq)]` instead of `arr[seq]`. In the future this will be interpreted as an array index, `arr[np.array(seq)]`, which will result either in an error or a different result.\n",
      "  return np.add.reduce(sorted[indexer] * weights, axis=axis) / sumval\n"
     ]
    },
    {
     "data": {
      "text/plain": [
       "Text(0.5,1,'Fordgobike  Gender Distribution  with respect to duration')"
      ]
     },
     "execution_count": 29,
     "metadata": {},
     "output_type": "execute_result"
    },
    {
     "data": {
      "image/png": "[encoded data removed]",
      "text/plain": [
       "<Figure size 720x360 with 1 Axes>"
      ]
     },
     "metadata": {
      "needs_background": "light"
     },
     "output_type": "display_data"
    }
   ],
   "source": [
    "# plot member_gender and duration_min\n",
    "plt.figure(figsize = (10,5))\n",
    "base_color = sb.color_palette()[0]\n",
    "sb.violinplot (data =df_clean,x = 'member_gender', y = 'duration_min',color = base_color)\n",
    "plt.xlabel(' Gender')\n",
    "plt.ylabel('duration (mins)')\n",
    "plt.title('Fordgobike  Gender Distribution  with respect to duration')\n"
   ]
  },
  {
   "cell_type": "markdown",
   "metadata": {
    "slideshow": {
     "slide_type": "slide"
    }
   },
   "source": [
    "They are more male users than any other gender as shown"
   ]
  },
  {
   "cell_type": "code",
   "execution_count": 30,
   "metadata": {
    "slideshow": {
     "slide_type": "subslide"
    }
   },
   "outputs": [
    {
     "data": {
      "text/plain": [
       "Text(0.5,1,'Fordgobike  Gender Distribution  with respect to Users')"
      ]
     },
     "execution_count": 30,
     "metadata": {},
     "output_type": "execute_result"
    },
    {
     "data": {
      "image/png": "[encoded data removed]",
      "text/plain": [
       "<Figure size 432x288 with 1 Axes>"
      ]
     },
     "metadata": {
      "needs_background": "light"
     },
     "output_type": "display_data"
    }
   ],
   "source": [
    "#plot of gender with users registered\n",
    "sb.countplot(data = df_clean , x ='member_gender',hue = 'user_type')\n",
    "plt.xlabel(' Gender')\n",
    "plt.ylabel('User Registered')\n",
    "plt.title('Fordgobike  Gender Distribution  with respect to Users')"
   ]
  },
  {
   "cell_type": "markdown",
   "metadata": {
    "slideshow": {
     "slide_type": "slide"
    }
   },
   "source": [
    "they are more availabilty of male in fordgobike trip than any other gender as shown"
   ]
  },
  {
   "cell_type": "code",
   "execution_count": 31,
   "metadata": {
    "scrolled": true,
    "slideshow": {
     "slide_type": "subslide"
    }
   },
   "outputs": [
    {
     "data": {
      "text/plain": [
       "Text(0.5,1,'Fordgobike  Gender Distribution  with respect to Days')"
      ]
     },
     "execution_count": 31,
     "metadata": {},
     "output_type": "execute_result"
    },
    {
     "data": {
      "image/png": "[encoded data removed]",
      "text/plain": [
       "<Figure size 432x288 with 1 Axes>"
      ]
     },
     "metadata": {
      "needs_background": "light"
     },
     "output_type": "display_data"
    }
   ],
   "source": [
    "#plot of gender with day\n",
    "sb.countplot(data = df_clean , x ='member_gender',hue = 'day')\n",
    "plt.xlabel(' Gender Day sequence')\n",
    "plt.ylabel('Gender Availability')\n",
    "plt.title('Fordgobike  Gender Distribution  with respect to Days')"
   ]
  },
  {
   "cell_type": "markdown",
   "metadata": {
    "slideshow": {
     "slide_type": "slide"
    }
   },
   "source": [
    " The  subscriber user are more available during the weekdays compared to the customer  as shown  b"
   ]
  },
  {
   "cell_type": "code",
   "execution_count": 32,
   "metadata": {
    "slideshow": {
     "slide_type": "subslide"
    }
   },
   "outputs": [
    {
     "data": {
      "text/plain": [
       "Text(0.5,1,'Fordgobike  Gender Distribution  with respect to Users')"
      ]
     },
     "execution_count": 32,
     "metadata": {},
     "output_type": "execute_result"
    },
    {
     "data": {
      "image/png": "[encoded data removed]",
      "text/plain": [
       "<Figure size 432x288 with 1 Axes>"
      ]
     },
     "metadata": {
      "needs_background": "light"
     },
     "output_type": "display_data"
    }
   ],
   "source": [
    "#plot of   user register  with  day\n",
    "sb.countplot(data = df_clean , x ='user_type',hue = 'day')\n",
    "plt.xlabel(' Users')\n",
    "plt.ylabel('Days')\n",
    "plt.title('Fordgobike  Gender Distribution  with respect to Users')"
   ]
  },
  {
   "cell_type": "markdown",
   "metadata": {
    "slideshow": {
     "slide_type": "skip"
    }
   },
   "source": [
    "## main features"
   ]
  },
  {
   "cell_type": "markdown",
   "metadata": {
    "slideshow": {
     "slide_type": "slide"
    }
   },
   "source": [
    "During my investigation , i observed  male trip with fordgobike  is more compared to the female and others.when viewed from the outlier of the violin and also  more  time  for a male to  complete a  trip as when  compared to female and others..the male are mostly  registered when as show in the subscriber and customer. followed by female .During  the weekdays , the male(s)  are more available or freguently available  as compared to female and others"
   ]
  },
  {
   "cell_type": "markdown",
   "metadata": {
    "slideshow": {
     "slide_type": "skip"
    }
   },
   "source": [
    "### other feature"
   ]
  },
  {
   "cell_type": "markdown",
   "metadata": {
    "slideshow": {
     "slide_type": "skip"
    }
   },
   "source": [
    "I did plot user with respect to days . i observed that user that are subscribe comes more often  than the customers all throughout the days ."
   ]
  },
  {
   "cell_type": "markdown",
   "metadata": {
    "slideshow": {
     "slide_type": "skip"
    }
   },
   "source": [
    "## Multivariate Exploration"
   ]
  },
  {
   "cell_type": "code",
   "execution_count": 33,
   "metadata": {
    "scrolled": true,
    "slideshow": {
     "slide_type": "skip"
    }
   },
   "outputs": [
    {
     "data": {
      "text/plain": [
       "Text(0.5,1,'Fordgobike  Gender weekdays  Distribution  with respect Time')"
      ]
     },
     "execution_count": 33,
     "metadata": {},
     "output_type": "execute_result"
    },
    {
     "data": {
      "image/png": "[encoded data removed]",
      "text/plain": [
       "<Figure size 720x576 with 1 Axes>"
      ]
     },
     "metadata": {
      "needs_background": "light"
     },
     "output_type": "display_data"
    }
   ],
   "source": [
    "#gender day \n",
    "plt.figure(figsize=[10,8])\n",
    "sb.stripplot(data = df_clean, y= 'day', x= 'duration_min', hue = 'member_gender',jitter = 0.35, dodge = True)\n",
    "plt.xlabel(' Duration (mins)')\n",
    "plt.ylabel('Day(s)')\n",
    "plt.title('Fordgobike  Gender weekdays  Distribution  with respect Time')"
   ]
  },
  {
   "cell_type": "markdown",
   "metadata": {
    "slideshow": {
     "slide_type": "skip"
    }
   },
   "source": [
    " ##### gender day:\n",
    " the overall gender day start with the highest time spent on bike trip  was the male as shown above, on individual time spent on  trip recorded its highest in on satueday  compared to the male who recorded  on wedneday and thursday. i needed more clarity on the   gender impact so i removed the day and plotted based on user registera as shown below."
   ]
  },
  {
   "cell_type": "markdown",
   "metadata": {
    "slideshow": {
     "slide_type": "slide"
    }
   },
   "source": [
    "gender user duration:\n",
    "more male subscriber spend more time in trip than the female and others but the male customeer slightly spend more trip time with the least from the others"
   ]
  },
  {
   "cell_type": "code",
   "execution_count": 34,
   "metadata": {
    "scrolled": false,
    "slideshow": {
     "slide_type": "subslide"
    }
   },
   "outputs": [
    {
     "data": {
      "image/png": "[encoded data removed]",
      "text/plain": [
       "<Figure size 1058.4x595.44 with 1 Axes>"
      ]
     },
     "metadata": {
      "needs_background": "light"
     },
     "output_type": "display_data"
    }
   ],
   "source": [
    "#gender user duration\n",
    "plt.figure(figsize=[14.70, 8.27])\n",
    "sb.stripplot(data = df_clean, x = 'member_gender', y = 'duration_min', hue = 'user_type',jitter = 0.35, dodge = True)\n",
    "plt.xlabel('Gender')\n",
    "plt.ylabel('Duration(mins)')\n",
    "plt.title('Fordgobike  Gender User  Distribution  with respect Time')\n",
    "plt.show()"
   ]
  },
  {
   "cell_type": "markdown",
   "metadata": {
    "slideshow": {
     "slide_type": "skip"
    }
   },
   "source": [
    " ### gender user duration:\n",
    " more male subscriber spend more time in trip  than the female and others but the male customeer  slightly  spend more trip time with the least from the others"
   ]
  },
  {
   "cell_type": "code",
   "execution_count": null,
   "metadata": {},
   "outputs": [],
   "source": []
  },
  {
   "cell_type": "markdown",
   "metadata": {
    "slideshow": {
     "slide_type": "skip"
    }
   },
   "source": [
    "### interesting s features?\n",
    "based on all observatiion you can see that the male have more gender impact on the fordbike trip than the female gender due to its day ,duration_mins,member_gender and user_ type features"
   ]
  },
  {
   "cell_type": "code",
   "execution_count": 38,
   "metadata": {},
   "outputs": [
    {
     "name": "stderr",
     "output_type": "stream",
     "text": [
      "[NbConvertApp] Converting notebook project_final_exploration_slide.ipynb to slides\n",
      "[NbConvertApp] Writing 518041 bytes to project_final_exploration_slide.slides.html\n",
      "[NbConvertApp] Redirecting reveal.js requests to https://cdnjs.cloudflare.com/ajax/libs/reveal.js/3.5.0\n",
      "Traceback (most recent call last):\n",
      "  File \"C:\\ProgramData\\Anaconda3\\Scripts\\jupyter-nbconvert-script.py\", line 10, in <module>\n",
      "    sys.exit(main())\n",
      "  File \"C:\\ProgramData\\Anaconda3\\lib\\site-packages\\jupyter_core\\application.py\", line 266, in launch_instance\n",
      "    return super(JupyterApp, cls).launch_instance(argv=argv, **kwargs)\n",
      "  File \"C:\\ProgramData\\Anaconda3\\lib\\site-packages\\traitlets\\config\\application.py\", line 658, in launch_instance\n",
      "    app.start()\n",
      "  File \"C:\\ProgramData\\Anaconda3\\lib\\site-packages\\nbconvert\\nbconvertapp.py\", line 337, in start\n",
      "    self.convert_notebooks()\n",
      "  File \"C:\\ProgramData\\Anaconda3\\lib\\site-packages\\nbconvert\\nbconvertapp.py\", line 507, in convert_notebooks\n",
      "    self.convert_single_notebook(notebook_filename)\n",
      "  File \"C:\\ProgramData\\Anaconda3\\lib\\site-packages\\nbconvert\\nbconvertapp.py\", line 480, in convert_single_notebook\n",
      "    self.postprocess_single_notebook(write_results)\n",
      "  File \"C:\\ProgramData\\Anaconda3\\lib\\site-packages\\nbconvert\\nbconvertapp.py\", line 452, in postprocess_single_notebook\n",
      "    self.postprocessor(write_results)\n",
      "  File \"C:\\ProgramData\\Anaconda3\\lib\\site-packages\\nbconvert\\postprocessors\\base.py\", line 28, in __call__\n",
      "    self.postprocess(input)\n",
      "  File \"C:\\ProgramData\\Anaconda3\\lib\\site-packages\\nbconvert\\postprocessors\\serve.py\", line 95, in postprocess\n",
      "    http_server.listen(self.port, address=self.ip)\n",
      "  File \"C:\\ProgramData\\Anaconda3\\lib\\site-packages\\tornado\\tcpserver.py\", line 143, in listen\n",
      "    sockets = bind_sockets(port, address=address)\n",
      "  File \"C:\\ProgramData\\Anaconda3\\lib\\site-packages\\tornado\\netutil.py\", line 168, in bind_sockets\n",
      "    sock.bind(sockaddr)\n",
      "OSError: [WinError 10048] Only one usage of each socket address (protocol/network address/port) is normally permitted\n"
     ]
    }
   ],
   "source": [
    "!jupyter nbconvert project_final_exploration_slide.ipynb --to slides --post serve --template output_toggle"
   ]
  },
  {
   "cell_type": "code",
   "execution_count": null,
   "metadata": {},
   "outputs": [],
   "source": []
  }
 ],
 "metadata": {
  "celltoolbar": "Slideshow",
  "kernelspec": {
   "display_name": "Python 3",
   "language": "python",
   "name": "python3"
  },
  "language_info": {
   "codemirror_mode": {
    "name": "ipython",
    "version": 3
   },
   "file_extension": ".py",
   "mimetype": "text/x-python",
   "name": "python",
   "nbconvert_exporter": "python",
   "pygments_lexer": "ipython3",
   "version": "3.7.0"
  },
  "widgets": {
   "application/vnd.jupyter.widget-state+json": {
    "state": {},
    "version_major": 2,
    "version_minor": 0
   }
  }
 },
 "nbformat": 4,
 "nbformat_minor": 2
}
